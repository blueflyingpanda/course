{
 "cells": [
  {
   "cell_type": "markdown",
   "source": [
    "[https://leetcode.com/problems/implement-stack-using-queues](link)"
   ],
   "metadata": {
    "collapsed": false,
    "pycharm": {
     "name": "#%% md\n"
    }
   }
  },
  {
   "cell_type": "code",
   "execution_count": null,
   "outputs": [],
   "source": [
    "from queue import Queue\n",
    "\n",
    "class MyStack:\n",
    "\n",
    "    def __init__(self):\n",
    "        self._base_queue = Queue()\n",
    "        self._helper_queue = Queue()\n",
    "\n",
    "\n",
    "    def push(self, x: int) -> None:\n",
    "        self._base_queue.put(x)\n",
    "\n",
    "    def pop(self) -> int:\n",
    "        while self._base_queue.qsize() > 1:\n",
    "            self._helper_queue.put(self._base_queue.get())\n",
    "        pop_value = self._base_queue.get()\n",
    "        self._base_queue, self._helper_queue = self._helper_queue, self._base_queue\n",
    "        return pop_value\n",
    "\n",
    "    def top(self) -> int:\n",
    "        top_value = self.pop()\n",
    "        self._base_queue.put(top_value)\n",
    "        return top_value\n",
    "\n",
    "    def empty(self) -> bool:\n",
    "        return self._base_queue.empty()\n",
    "\n"
   ],
   "metadata": {
    "collapsed": false,
    "pycharm": {
     "name": "#%%\n"
    }
   }
  },
  {
   "cell_type": "markdown",
   "source": [
    "Test"
   ],
   "metadata": {
    "collapsed": false,
    "pycharm": {
     "name": "#%% md\n"
    }
   }
  },
  {
   "cell_type": "code",
   "execution_count": null,
   "outputs": [],
   "source": [
    "# Your MyStack object will be instantiated and called as such:\n",
    "obj = MyStack()\n",
    "obj.push(7)\n",
    "obj.push(5)\n",
    "obj.push(3)\n",
    "assert obj.pop() == 3\n",
    "assert obj.top() == 5\n",
    "assert obj.pop() == 5\n",
    "assert obj.empty() == False\n",
    "assert obj.pop() == 7\n",
    "assert obj.empty() == True"
   ],
   "metadata": {
    "collapsed": false,
    "pycharm": {
     "name": "#%%\n"
    }
   }
  },
  {
   "cell_type": "markdown",
   "source": [
    "[https://leetcode.com/problems/summary-ranges/](link)"
   ],
   "metadata": {
    "collapsed": false,
    "pycharm": {
     "name": "#%% md\n"
    }
   }
  },
  {
   "cell_type": "code",
   "execution_count": 3,
   "outputs": [],
   "source": [
    "from typing import List\n",
    "\n",
    "class Solution:\n",
    "\n",
    "    @staticmethod\n",
    "    def _stringify_span(left_border, right_border):\n",
    "        if left_border == right_border:\n",
    "            return str(left_border)\n",
    "        return f'{left_border}->{right_border}'\n",
    "\n",
    "\n",
    "    def summaryRanges(self, nums: List[int]) -> List[str]:\n",
    "        spans = []\n",
    "        if not nums:\n",
    "            return spans\n",
    "        # start interval and skip first value\n",
    "        left_border = right_border = nums[0]\n",
    "        for num in nums[1:]:\n",
    "            if num == right_border + 1:  # shift right border\n",
    "                right_border = num\n",
    "            else:  # end interval\n",
    "                spans.append(self._stringify_span(left_border, right_border))\n",
    "                left_border = right_border = num\n",
    "        spans.append(self._stringify_span(left_border, right_border))\n",
    "        return spans\n"
   ],
   "metadata": {
    "collapsed": false,
    "pycharm": {
     "name": "#%%\n"
    }
   }
  },
  {
   "cell_type": "markdown",
   "source": [
    "Tests"
   ],
   "metadata": {
    "collapsed": false,
    "pycharm": {
     "name": "#%% md\n"
    }
   }
  },
  {
   "cell_type": "code",
   "execution_count": null,
   "outputs": [],
   "source": [
    "solution = Solution()\n",
    "assert solution.summaryRanges(nums=[0,1,2,4,5,7]) == [\"0->2\",\"4->5\",\"7\"]\n",
    "assert solution.summaryRanges(nums=[0,2,3,4,6,8,9]) == [\"0\",\"2->4\",\"6\",\"8->9\"]"
   ],
   "metadata": {
    "collapsed": false,
    "pycharm": {
     "name": "#%%\n"
    }
   }
  },
  {
   "cell_type": "markdown",
   "source": [
    "[https://leetcode.com/problems/power-of-two/](link)"
   ],
   "metadata": {
    "collapsed": false,
    "pycharm": {
     "name": "#%% md\n"
    }
   }
  },
  {
   "cell_type": "code",
   "execution_count": null,
   "outputs": [],
   "source": [
    "class Solution:\n",
    "    def isPowerOfTwo(self, n: int) -> bool:\n",
    "        power = 0\n",
    "        while 2 ** power <= n:\n",
    "            if 2 ** power == n:\n",
    "                return True\n",
    "            power += 1\n",
    "        return False\n"
   ],
   "metadata": {
    "collapsed": false,
    "pycharm": {
     "name": "#%%\n"
    }
   }
  },
  {
   "cell_type": "markdown",
   "source": [
    "Tests"
   ],
   "metadata": {
    "collapsed": false,
    "pycharm": {
     "name": "#%% md\n"
    }
   }
  },
  {
   "cell_type": "code",
   "execution_count": null,
   "outputs": [],
   "source": [
    "solution = Solution()\n",
    "assert solution.isPowerOfTwo(1)\n",
    "assert solution.isPowerOfTwo(16)"
   ],
   "metadata": {
    "collapsed": false,
    "pycharm": {
     "name": "#%%\n"
    }
   }
  },
  {
   "cell_type": "markdown",
   "source": [
    "Follow up: no loops"
   ],
   "metadata": {
    "collapsed": false,
    "pycharm": {
     "name": "#%% md\n"
    }
   }
  },
  {
   "cell_type": "code",
   "execution_count": null,
   "outputs": [],
   "source": [
    "class Solution:\n",
    "    def isPowerOfTwo(self, n: int) -> bool:\n",
    "        if n <= 0:\n",
    "            return False\n",
    "        return '{:b}'.format(n).count('1') == 1\n"
   ],
   "metadata": {
    "collapsed": false,
    "pycharm": {
     "name": "#%%\n",
     "is_executing": true
    }
   }
  },
  {
   "cell_type": "markdown",
   "source": [
    "[https://leetcode.com/problems/contains-duplicate-ii/]()"
   ],
   "metadata": {
    "collapsed": false,
    "pycharm": {
     "name": "#%% md\n"
    }
   }
  },
  {
   "cell_type": "code",
   "execution_count": 10,
   "outputs": [],
   "source": [
    "from tqdm import tqdm\n",
    "\n",
    "class Solution:\n",
    "    def containsNearbyDuplicate(self, nums: List[int], k: int) -> bool:\n",
    "        last_seen_index = {}\n",
    "        for i, val in enumerate(nums):\n",
    "            if val in last_seen_index and  i - last_seen_index[val] <= k:\n",
    "                return True\n",
    "            else:\n",
    "                last_seen_index[val] = i\n",
    "        return False"
   ],
   "metadata": {
    "collapsed": false,
    "pycharm": {
     "name": "#%%\n"
    }
   }
  },
  {
   "cell_type": "markdown",
   "source": [
    "Tests"
   ],
   "metadata": {
    "collapsed": false,
    "pycharm": {
     "name": "#%% md\n"
    }
   }
  },
  {
   "cell_type": "code",
   "execution_count": 11,
   "outputs": [],
   "source": [
    "solution = Solution()\n",
    "assert solution.containsNearbyDuplicate(nums=[1,2,3,1], k=3) == True\n",
    "assert solution.containsNearbyDuplicate(nums=[1,0,1,1], k=1) == True\n",
    "assert solution.containsNearbyDuplicate(nums=[1,2,3,1,2,3], k=2) == False"
   ],
   "metadata": {
    "collapsed": false,
    "pycharm": {
     "name": "#%%\n"
    }
   }
  },
  {
   "cell_type": "code",
   "execution_count": 12,
   "outputs": [
    {
     "name": "stdout",
     "output_type": "stream",
     "text": [
      "False\n"
     ]
    }
   ],
   "source": [
    "print(solution.containsNearbyDuplicate(nums=list(range(-24500,29999)), k=35000))"
   ],
   "metadata": {
    "collapsed": false,
    "pycharm": {
     "name": "#%%\n"
    }
   }
  },
  {
   "cell_type": "markdown",
   "source": [
    "[https://leetcode.com/problems/implement-queue-using-stacks/]()"
   ],
   "metadata": {
    "collapsed": false,
    "pycharm": {
     "name": "#%% md\n"
    }
   }
  },
  {
   "cell_type": "code",
   "execution_count": null,
   "outputs": [],
   "source": [
    "from collections import deque\n",
    "\n",
    "class MyQueue:\n",
    "\n",
    "    def __init__(self):\n",
    "        self._base_stack = deque()\n",
    "        self._helper_stack = deque()\n",
    "\n",
    "    def push(self, x: int) -> None:\n",
    "        self._base_stack.append(x)\n",
    "\n",
    "    def pop(self) -> int:\n",
    "        while len(self._base_stack) > 1:\n",
    "            self._helper_stack.append(self._base_stack.pop())\n",
    "        pop_value = self._base_stack.pop()\n",
    "        while len(self._helper_stack):\n",
    "            self._base_stack.append(self._helper_stack.pop())\n",
    "        return pop_value\n",
    "\n",
    "    def peek(self) -> int:\n",
    "        while len(self._base_stack) > 1:\n",
    "            self._helper_stack.append(self._base_stack.pop())\n",
    "        top_value = self._base_stack.pop()\n",
    "        self._base_stack.append(top_value)\n",
    "        while len(self._helper_stack):\n",
    "            self._base_stack.append(self._helper_stack.pop())\n",
    "        return top_value\n",
    "\n",
    "    def empty(self) -> bool:\n",
    "        return len(self._base_stack) == 0"
   ],
   "metadata": {
    "collapsed": false,
    "pycharm": {
     "name": "#%%\n"
    }
   }
  },
  {
   "cell_type": "markdown",
   "source": [
    "[https://leetcode.com/problems/add-two-numbers/]()"
   ],
   "metadata": {
    "collapsed": false,
    "pycharm": {
     "name": "#%% md\n"
    }
   }
  },
  {
   "cell_type": "code",
   "execution_count": 13,
   "outputs": [
    {
     "ename": "KeyboardInterrupt",
     "evalue": "",
     "output_type": "error",
     "traceback": [
      "\u001B[0;31m---------------------------------------------------------------------------\u001B[0m",
      "\u001B[0;31mKeyboardInterrupt\u001B[0m                         Traceback (most recent call last)",
      "Cell \u001B[0;32mIn [13], line 36\u001B[0m\n\u001B[1;32m     33\u001B[0m l2 \u001B[38;5;241m=\u001B[39m ListNode(\u001B[38;5;241m9\u001B[39m, ListNode(\u001B[38;5;241m9\u001B[39m, ListNode(\u001B[38;5;241m9\u001B[39m, ListNode(\u001B[38;5;241m9\u001B[39m, \u001B[38;5;28;01mNone\u001B[39;00m))))\n\u001B[1;32m     35\u001B[0m solution \u001B[38;5;241m=\u001B[39m Solution()\n\u001B[0;32m---> 36\u001B[0m result \u001B[38;5;241m=\u001B[39m \u001B[43msolution\u001B[49m\u001B[38;5;241;43m.\u001B[39;49m\u001B[43maddTwoNumbers\u001B[49m\u001B[43m(\u001B[49m\u001B[43ml1\u001B[49m\u001B[43m,\u001B[49m\u001B[43m \u001B[49m\u001B[43ml2\u001B[49m\u001B[43m)\u001B[49m\n\u001B[1;32m     37\u001B[0m \u001B[38;5;28mprint\u001B[39m(\u001B[38;5;124m'\u001B[39m\u001B[38;5;124mdone!\u001B[39m\u001B[38;5;124m'\u001B[39m)\n",
      "Cell \u001B[0;32mIn [13], line 12\u001B[0m, in \u001B[0;36mSolution.addTwoNumbers\u001B[0;34m(self, l1, l2)\u001B[0m\n\u001B[1;32m     10\u001B[0m result \u001B[38;5;241m=\u001B[39m current_digit \u001B[38;5;241m=\u001B[39m ListNode()\n\u001B[1;32m     11\u001B[0m increment_next \u001B[38;5;241m=\u001B[39m \u001B[38;5;28;01mFalse\u001B[39;00m\n\u001B[0;32m---> 12\u001B[0m \u001B[38;5;28;01mwhile\u001B[39;00m \u001B[43ml1\u001B[49m \u001B[38;5;129;01mor\u001B[39;00m l2:\n\u001B[1;32m     13\u001B[0m     \u001B[38;5;28;01mif\u001B[39;00m l1:\n\u001B[1;32m     14\u001B[0m         current_digit\u001B[38;5;241m.\u001B[39mval \u001B[38;5;241m+\u001B[39m\u001B[38;5;241m=\u001B[39m l1\u001B[38;5;241m.\u001B[39mval\n",
      "Cell \u001B[0;32mIn [13], line 12\u001B[0m, in \u001B[0;36mSolution.addTwoNumbers\u001B[0;34m(self, l1, l2)\u001B[0m\n\u001B[1;32m     10\u001B[0m result \u001B[38;5;241m=\u001B[39m current_digit \u001B[38;5;241m=\u001B[39m ListNode()\n\u001B[1;32m     11\u001B[0m increment_next \u001B[38;5;241m=\u001B[39m \u001B[38;5;28;01mFalse\u001B[39;00m\n\u001B[0;32m---> 12\u001B[0m \u001B[38;5;28;01mwhile\u001B[39;00m \u001B[43ml1\u001B[49m \u001B[38;5;129;01mor\u001B[39;00m l2:\n\u001B[1;32m     13\u001B[0m     \u001B[38;5;28;01mif\u001B[39;00m l1:\n\u001B[1;32m     14\u001B[0m         current_digit\u001B[38;5;241m.\u001B[39mval \u001B[38;5;241m+\u001B[39m\u001B[38;5;241m=\u001B[39m l1\u001B[38;5;241m.\u001B[39mval\n",
      "File \u001B[0;32m_pydevd_bundle/pydevd_cython_darwin_39_64.pyx:1179\u001B[0m, in \u001B[0;36m_pydevd_bundle.pydevd_cython_darwin_39_64.SafeCallWrapper.__call__\u001B[0;34m()\u001B[0m\n",
      "File \u001B[0;32m_pydevd_bundle/pydevd_cython_darwin_39_64.pyx:620\u001B[0m, in \u001B[0;36m_pydevd_bundle.pydevd_cython_darwin_39_64.PyDBFrame.trace_dispatch\u001B[0;34m()\u001B[0m\n",
      "File \u001B[0;32m_pydevd_bundle/pydevd_cython_darwin_39_64.pyx:1095\u001B[0m, in \u001B[0;36m_pydevd_bundle.pydevd_cython_darwin_39_64.PyDBFrame.trace_dispatch\u001B[0;34m()\u001B[0m\n",
      "File \u001B[0;32m_pydevd_bundle/pydevd_cython_darwin_39_64.pyx:1053\u001B[0m, in \u001B[0;36m_pydevd_bundle.pydevd_cython_darwin_39_64.PyDBFrame.trace_dispatch\u001B[0;34m()\u001B[0m\n",
      "File \u001B[0;32m/Applications/PyCharm.app/Contents/plugins/python/helpers-pro/jupyter_debug/pydev_jupyter_plugin.py:169\u001B[0m, in \u001B[0;36mstop\u001B[0;34m(plugin, pydb, frame, event, args, stop_info, arg, step_cmd)\u001B[0m\n\u001B[1;32m    167\u001B[0m     frame \u001B[38;5;241m=\u001B[39m suspend_jupyter(main_debugger, thread, frame, step_cmd)\n\u001B[1;32m    168\u001B[0m     \u001B[38;5;28;01mif\u001B[39;00m frame:\n\u001B[0;32m--> 169\u001B[0m         \u001B[43mmain_debugger\u001B[49m\u001B[38;5;241;43m.\u001B[39;49m\u001B[43mdo_wait_suspend\u001B[49m\u001B[43m(\u001B[49m\u001B[43mthread\u001B[49m\u001B[43m,\u001B[49m\u001B[43m \u001B[49m\u001B[43mframe\u001B[49m\u001B[43m,\u001B[49m\u001B[43m \u001B[49m\u001B[43mevent\u001B[49m\u001B[43m,\u001B[49m\u001B[43m \u001B[49m\u001B[43marg\u001B[49m\u001B[43m)\u001B[49m\n\u001B[1;32m    170\u001B[0m         \u001B[38;5;28;01mreturn\u001B[39;00m \u001B[38;5;28;01mTrue\u001B[39;00m\n\u001B[1;32m    171\u001B[0m \u001B[38;5;28;01mreturn\u001B[39;00m \u001B[38;5;28;01mFalse\u001B[39;00m\n",
      "File \u001B[0;32m/Applications/PyCharm.app/Contents/plugins/python/helpers/pydev/pydevd.py:1155\u001B[0m, in \u001B[0;36mPyDB.do_wait_suspend\u001B[0;34m(self, thread, frame, event, arg, send_suspend_message, is_unhandled_exception)\u001B[0m\n\u001B[1;32m   1152\u001B[0m         from_this_thread\u001B[38;5;241m.\u001B[39mappend(frame_id)\n\u001B[1;32m   1154\u001B[0m \u001B[38;5;28;01mwith\u001B[39;00m \u001B[38;5;28mself\u001B[39m\u001B[38;5;241m.\u001B[39m_threads_suspended_single_notification\u001B[38;5;241m.\u001B[39mnotify_thread_suspended(thread_id, stop_reason):\n\u001B[0;32m-> 1155\u001B[0m     \u001B[38;5;28;43mself\u001B[39;49m\u001B[38;5;241;43m.\u001B[39;49m\u001B[43m_do_wait_suspend\u001B[49m\u001B[43m(\u001B[49m\u001B[43mthread\u001B[49m\u001B[43m,\u001B[49m\u001B[43m \u001B[49m\u001B[43mframe\u001B[49m\u001B[43m,\u001B[49m\u001B[43m \u001B[49m\u001B[43mevent\u001B[49m\u001B[43m,\u001B[49m\u001B[43m \u001B[49m\u001B[43marg\u001B[49m\u001B[43m,\u001B[49m\u001B[43m \u001B[49m\u001B[43msuspend_type\u001B[49m\u001B[43m,\u001B[49m\u001B[43m \u001B[49m\u001B[43mfrom_this_thread\u001B[49m\u001B[43m)\u001B[49m\n",
      "File \u001B[0;32m/Applications/PyCharm.app/Contents/plugins/python/helpers/pydev/pydevd.py:1170\u001B[0m, in \u001B[0;36mPyDB._do_wait_suspend\u001B[0;34m(self, thread, frame, event, arg, suspend_type, from_this_thread)\u001B[0m\n\u001B[1;32m   1167\u001B[0m             \u001B[38;5;28mself\u001B[39m\u001B[38;5;241m.\u001B[39m_call_mpl_hook()\n\u001B[1;32m   1169\u001B[0m         \u001B[38;5;28mself\u001B[39m\u001B[38;5;241m.\u001B[39mprocess_internal_commands()\n\u001B[0;32m-> 1170\u001B[0m         \u001B[43mtime\u001B[49m\u001B[38;5;241;43m.\u001B[39;49m\u001B[43msleep\u001B[49m\u001B[43m(\u001B[49m\u001B[38;5;241;43m0.01\u001B[39;49m\u001B[43m)\u001B[49m\n\u001B[1;32m   1172\u001B[0m \u001B[38;5;28mself\u001B[39m\u001B[38;5;241m.\u001B[39mcancel_async_evaluation(get_current_thread_id(thread), \u001B[38;5;28mstr\u001B[39m(\u001B[38;5;28mid\u001B[39m(frame)))\n\u001B[1;32m   1174\u001B[0m \u001B[38;5;66;03m# process any stepping instructions\u001B[39;00m\n",
      "\u001B[0;31mKeyboardInterrupt\u001B[0m: "
     ]
    }
   ],
   "source": [
    "from typing import Optional\n",
    "\n",
    "class ListNode:\n",
    "    def __init__(self, val=0, next=None):\n",
    "        self.val = val\n",
    "        self.next = next\n",
    "\n",
    "class Solution:\n",
    "    def addTwoNumbers(self, l1: Optional[ListNode], l2: Optional[ListNode]) -> Optional[ListNode]:\n",
    "        result = current_digit = ListNode()\n",
    "        increment_next = False\n",
    "        while l1 or l2 or increment_next:\n",
    "            if l1:\n",
    "                current_digit.val += l1.val\n",
    "                l1 = l1.next\n",
    "            if l2:\n",
    "                current_digit.val += l2.val\n",
    "                l2 = l2.next\n",
    "            if increment_next:  #  does sum of previous digits exeed one digit?\n",
    "                current_digit.val += 1\n",
    "            if current_digit.val > 9:  # does the value exceeds one digit?\n",
    "                increment_next = True\n",
    "                current_digit.val -= 10\n",
    "            else:\n",
    "                increment_next = False\n",
    "            if l1 or l2 or increment_next:  # do we need one more digit?\n",
    "                current_digit.next = ListNode()\n",
    "                current_digit = current_digit.next\n",
    "\n",
    "        return result\n",
    "\n",
    "l1 = ListNode(9, ListNode(9, ListNode(9, ListNode(9, ListNode(9, ListNode(9, ListNode(9, None)))))))\n",
    "l2 = ListNode(9, ListNode(9, ListNode(9, ListNode(9, None))))\n",
    "\n",
    "solution = Solution()\n",
    "result = solution.addTwoNumbers(l1, l2)\n",
    "print('done!')\n"
   ],
   "metadata": {
    "collapsed": false,
    "pycharm": {
     "name": "#%%\n"
    }
   }
  }
 ],
 "metadata": {
  "kernelspec": {
   "display_name": "Python 3",
   "language": "python",
   "name": "python3"
  },
  "language_info": {
   "codemirror_mode": {
    "name": "ipython",
    "version": 2
   },
   "file_extension": ".py",
   "mimetype": "text/x-python",
   "name": "python",
   "nbconvert_exporter": "python",
   "pygments_lexer": "ipython2",
   "version": "2.7.6"
  }
 },
 "nbformat": 4,
 "nbformat_minor": 0
}