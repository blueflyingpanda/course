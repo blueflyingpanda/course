{
 "cells": [
  {
   "cell_type": "markdown",
   "metadata": {
    "collapsed": false,
    "pycharm": {
     "name": "#%% md\n"
    }
   },
   "source": [
    "# Lecture 0\n",
    "Every program has input and output. Based on input program decides on the output.\n",
    "Code executes line by line.\n",
    "Code stops executing when an error occurs."
   ]
  },
  {
   "cell_type": "markdown",
   "id": "cebe621b",
   "metadata": {
    "pycharm": {
     "name": "#%% md\n"
    }
   },
   "source": [
    "### Data types and Constants\n",
    "Constant is an immutable value"
   ]
  },
  {
   "cell_type": "code",
   "execution_count": null,
   "id": "ece9a6c4",
   "metadata": {
    "pycharm": {
     "is_executing": true,
     "name": "#%%\n"
    }
   },
   "outputs": [],
   "source": [
    "print(None, type(None))  # None\n",
    "print(True, type(True))  # bool\n",
    "print(False, type(False))  # bool\n",
    "print(42, type(42))  # int\n",
    "print(42.21, type(42.21))  # float\n",
    "print('42', type('42')) # str\n",
    "print(\"forty two\", type(\"forty two\"))  # for str you can use double quotes"
   ]
  },
  {
   "cell_type": "markdown",
   "metadata": {
    "collapsed": false,
    "pycharm": {
     "name": "#%% md\n"
    }
   },
   "source": [
    "### Type casting"
   ]
  },
  {
   "cell_type": "code",
   "execution_count": null,
   "metadata": {
    "collapsed": false,
    "pycharm": {
     "name": "#%%\n"
    }
   },
   "outputs": [],
   "source": [
    "print(int('42'), type(int('42')))\n",
    "print(float('42'), type(float('42')))\n",
    "print(str(42), type(str(42)))\n",
    "print(int(42.21))  # removes fractional part\n",
    "print(int(True) + int(True))  # when converted to int True becomes 1, False becomes 0"
   ]
  },
  {
   "cell_type": "markdown",
   "metadata": {
    "collapsed": false,
    "pycharm": {
     "name": "#%% md\n"
    }
   },
   "source": [
    "### Variables\n",
    "\n",
    "Must start with a letter or underscore _\n",
    "Must consist of letters, numbers, and underscores\n",
    "Case Sensitive\n",
    "\n",
    "Good:    spam    eggs   spam23    _speed\n",
    "Bad:     23spam     #sign  var.12\n",
    "Different:    spam   Spam   SPAM SpaM\n",
    "\n",
    "RESERVED WORDS YOU CAN'T USE IN VARIABLE NAMES\n",
    "False \tclass \treturn\tis \t\tfinally\n",
    "None \tif\t\tfor \tlambda \tcontinue\n",
    "True \tdef \tfrom \twhile\tnonlocal\n",
    "and \tdel \tglobal \tnot \twith\n",
    "as  \telif \ttry\t\tor \t\tyield\n",
    "assert \telse \timport \tpass\n",
    "break \texcept \tin \t\traise\n",
    "\n",
    "x1q3z9ocd valid but not readable"
   ]
  },
  {
   "cell_type": "code",
   "execution_count": null,
   "id": "3c4affd7",
   "metadata": {
    "pycharm": {
     "name": "#%%\n"
    }
   },
   "outputs": [],
   "source": [
    "number = 21  # assignment operator assigns right value to left variable\n",
    "print(number, type(number))  # int\n",
    "number = 42  # 21 is lost\n",
    "print(number, type(number))  # int\n",
    "number = number + 0.21\n",
    "print(number, type(number))  # float, cause int + float = float\n",
    "number += 0.21  # shortcut for number = number + 0.21\n",
    "print(number, type(number))\n",
    "number += number\n",
    "print(number, type(number))\n",
    "number -= number\n",
    "print(number, type(number))\n",
    "word = 'forty two'\n",
    "print(word)"
   ]
  },
  {
   "cell_type": "markdown",
   "id": "9d9bcd38",
   "metadata": {
    "pycharm": {
     "name": "#%% md\n"
    }
   },
   "source": [
    "### Operators:"
   ]
  },
  {
   "cell_type": "code",
   "execution_count": null,
   "id": "43a014f0",
   "metadata": {
    "pycharm": {
     "name": "#%%\n"
    }
   },
   "outputs": [],
   "source": [
    "\"\"\" () parenthesis \"\"\"\n",
    "# function call\n",
    "print('ft')\n",
    "# expression\n",
    "print((5 + 1) * 2)\n",
    "print(5 + 1 * 2)\n",
    "\n",
    "\"\"\"\n",
    "Parenthesis\n",
    "Power\n",
    "Multiplication\n",
    "Addition\n",
    "Left to Right\n",
    "\"\"\""
   ]
  },
  {
   "cell_type": "code",
   "execution_count": null,
   "id": "8438ea98",
   "metadata": {
    "pycharm": {
     "name": "#%%\n"
    }
   },
   "outputs": [],
   "source": [
    "\"\"\" + Addition \"\"\"\n",
    "print(21 + 1)\n",
    "print(21.42 + 1 + 0.1)\n",
    "print('forty ' + 'two')  # concatenation"
   ]
  },
  {
   "cell_type": "code",
   "execution_count": null,
   "id": "cc499b12",
   "metadata": {
    "pycharm": {
     "name": "#%%\n"
    }
   },
   "outputs": [],
   "source": [
    "\"\"\" - Subtraction \"\"\"\n",
    "print(21 - 1)\n",
    "print(21.42 - 1 - 0.1)\n",
    "# doesn't work with str"
   ]
  },
  {
   "cell_type": "code",
   "execution_count": null,
   "id": "5e107932",
   "metadata": {
    "pycharm": {
     "name": "#%%\n"
    }
   },
   "outputs": [],
   "source": [
    "\"\"\" * Multiplication \"\"\"\n",
    "print(21 * 3)\n",
    "print(21.42 * 2)\n",
    "print('test' * 4)"
   ]
  },
  {
   "cell_type": "code",
   "execution_count": null,
   "id": "0a094ef5",
   "metadata": {
    "pycharm": {
     "name": "#%%\n"
    }
   },
   "outputs": [],
   "source": [
    "\"\"\" / Division \"\"\"\n",
    "# always returns float\n",
    "print(21 / 3)\n",
    "print(21.42 / 2)\n",
    "# doesn't work with str"
   ]
  },
  {
   "cell_type": "code",
   "execution_count": null,
   "id": "8ace0087",
   "metadata": {
    "pycharm": {
     "name": "#%%\n"
    }
   },
   "outputs": [],
   "source": [
    "\"\"\" // Whole Division \"\"\"\n",
    "print(21 // 3)\n",
    "print(21.42 // 2)\n",
    "# doesn't work with str"
   ]
  },
  {
   "cell_type": "code",
   "execution_count": null,
   "id": "0f5de8ee",
   "metadata": {
    "pycharm": {
     "name": "#%%\n"
    }
   },
   "outputs": [],
   "source": [
    "\"\"\" ** Power \"\"\"\n",
    "print(3 ** 3)\n",
    "print(1.5 ** 2)\n",
    "# doesn't work with str"
   ]
  },
  {
   "cell_type": "code",
   "execution_count": null,
   "id": "eddad94c",
   "metadata": {
    "pycharm": {
     "name": "#%%\n"
    }
   },
   "outputs": [],
   "source": [
    "\"\"\" % Remainder \"\"\"\n",
    "print(9 % 3)\n",
    "print(1.5 % 2)\n",
    "print('%s beautiful %s %d' % ('Hello', 'world', 123))  # str formatting"
   ]
  },
  {
   "cell_type": "markdown",
   "id": "5fa3c29a",
   "metadata": {
    "pycharm": {
     "name": "#%% md\n"
    }
   },
   "source": [
    "### Comparison operators:"
   ]
  },
  {
   "cell_type": "code",
   "execution_count": null,
   "id": "d19b757e",
   "metadata": {
    "pycharm": {
     "name": "#%%\n"
    }
   },
   "outputs": [],
   "source": [
    "print(1 == 1)  # equal\n",
    "print(1 != 1)  # not equal\n",
    "print(2 > 1)  # greater\n",
    "print(2 >= 1)  # greater or equal\n",
    "print(2 < 3)  # less\n",
    "print(2 <= 3)  # less or equal"
   ]
  },
  {
   "cell_type": "markdown",
   "id": "0695f0ce",
   "metadata": {
    "pycharm": {
     "name": "#%% md\n"
    }
   },
   "source": [
    "### Logical operators:"
   ]
  },
  {
   "cell_type": "code",
   "execution_count": null,
   "id": "e7f32ec0",
   "metadata": {
    "pycharm": {
     "name": "#%%\n"
    }
   },
   "outputs": [],
   "source": [
    "name = 'sonya'\n",
    "age = 17\n",
    "cool = True\n",
    "friends = None\n",
    "\n",
    "print(name == 'sonya' and age >= 18)\n",
    "print(name == 'sonya' or age >= 18)\n",
    "print(name == 'sonya' and age >= 18 or cool)\n",
    "print(name == 'sonya' and age >= 18 or cool and friends is not None)  # \"is\" is like == but stronger\n",
    "print(not True)\n",
    "print(not False)"
   ]
  },
  {
   "cell_type": "markdown",
   "metadata": {
    "collapsed": false,
    "pycharm": {
     "name": "#%% md\n"
    }
   },
   "source": [
    "### Floating point precision problem"
   ]
  },
  {
   "cell_type": "code",
   "execution_count": null,
   "metadata": {
    "collapsed": false,
    "pycharm": {
     "name": "#%%\n"
    }
   },
   "outputs": [],
   "source": [
    "print(0.1 + 0.1 + 0.1 == 0.3)\n",
    "print(0.1 + 0.1 + 0.1)"
   ]
  },
  {
   "cell_type": "markdown",
   "metadata": {
    "collapsed": false,
    "pycharm": {
     "name": "#%% md\n"
    }
   },
   "source": [
    "### Round float"
   ]
  },
  {
   "cell_type": "code",
   "execution_count": 2,
   "metadata": {
    "collapsed": false,
    "pycharm": {
     "name": "#%%\n"
    }
   },
   "outputs": [
    {
     "name": "stdout",
     "output_type": "stream",
     "text": [
      "42.0\n",
      "42.22\n",
      "42\n",
      "42\n",
      "43\n"
     ]
    }
   ],
   "source": [
    "from math import floor, ceil\n",
    "\n",
    "print(round(42.2184, 0))\n",
    "print(round(42.2184, 2))\n",
    "print(floor(42.99999))\n",
    "print(int(42.99999))\n",
    "print(ceil(42.00001))"
   ]
  },
  {
   "cell_type": "markdown",
   "metadata": {
    "collapsed": false,
    "pycharm": {
     "name": "#%% md\n"
    }
   },
   "source": [
    "### string formating"
   ]
  },
  {
   "cell_type": "code",
   "execution_count": 11,
   "metadata": {
    "collapsed": false,
    "pycharm": {
     "name": "#%%\n"
    }
   },
   "outputs": [
    {
     "name": "stdout",
     "output_type": "stream",
     "text": [
      "sonya\n",
      "\n",
      "\n",
      "\n",
      "is\n",
      "\n",
      "\n",
      "\n",
      "17\n"
     ]
    }
   ],
   "source": [
    "name = 'sonya'\n",
    "age = 17\n",
    "\n",
    "print(f'{name} is {age}')\n",
    "# print('{} is {}'.format(name, age))\n",
    "# print('%s is %s' % (name, age))\n",
    "# print(name, 'is', age)\n",
    "print(name, 'is', age, sep='\\n')\n",
    "# print(name + ' ' + 'is ' + str(age))"
   ]
  },
  {
   "cell_type": "markdown",
   "metadata": {
    "collapsed": false,
    "pycharm": {
     "name": "#%% md\n"
    }
   },
   "source": [
    "### string lenght"
   ]
  },
  {
   "cell_type": "code",
   "execution_count": 25,
   "metadata": {
    "collapsed": false,
    "pycharm": {
     "name": "#%%\n"
    }
   },
   "outputs": [
    {
     "name": "stdout",
     "output_type": "stream",
     "text": [
      "12\n"
     ]
    }
   ],
   "source": [
    "print(len('abrakadabra!'))  # len returns how many chars a string has"
   ]
  },
  {
   "cell_type": "markdown",
   "metadata": {
    "collapsed": false,
    "pycharm": {
     "name": "#%% md\n"
    }
   },
   "source": [
    "### string indexing"
   ]
  },
  {
   "cell_type": "code",
   "execution_count": 31,
   "metadata": {
    "collapsed": false,
    "pycharm": {
     "name": "#%%\n"
    }
   },
   "outputs": [
    {
     "name": "stdout",
     "output_type": "stream",
     "text": [
      "!\n"
     ]
    }
   ],
   "source": [
    "# print('abrakadabra!'[0])\n",
    "# print('abrakadabra!'[1])\n",
    "# print('abrakadabra!'[len('abrakadabra!') - 1])  # 12 - 1 = 11\n",
    "# print('abrakadabra!'[11])\n",
    "# print('abrakadabra!'[-1])\n",
    "# print('abrakadabra!'[-3])\n",
    "print('abrakadabra!'[11])"
   ]
  },
  {
   "cell_type": "markdown",
   "metadata": {
    "collapsed": false,
    "pycharm": {
     "name": "#%% md\n"
    }
   },
   "source": [
    "### string slicing"
   ]
  },
  {
   "cell_type": "code",
   "execution_count": 52,
   "metadata": {
    "collapsed": false,
    "pycharm": {
     "name": "#%%\n"
    }
   },
   "outputs": [
    {
     "name": "stdout",
     "output_type": "stream",
     "text": [
      "!raaab\n"
     ]
    }
   ],
   "source": [
    "print('abrakadabra!'[1:4])  # left included, right not included\n",
    "print('abrakadabra!'[:8])\n",
    "print('abrakadabra!'[0:8])\n",
    "print('abrakadabra!'[2:])\n",
    "print('abrakadabra!'[:])\n",
    "print('abrakadabra!'[2:8:2])\n",
    "print('abrakadabra!'[::4])\n",
    "print('abrakadabra!'[::-1])\n",
    "print('abrakadabra!'[::-2])"
   ]
  },
  {
   "cell_type": "markdown",
   "id": "f512de95",
   "metadata": {
    "pycharm": {
     "name": "#%% md\n"
    }
   },
   "source": [
    "### Errors (are OK):"
   ]
  },
  {
   "cell_type": "markdown",
   "metadata": {
    "collapsed": false,
    "pycharm": {
     "name": "#%% md\n"
    }
   },
   "source": [
    "ZeroDivision"
   ]
  },
  {
   "cell_type": "code",
   "execution_count": null,
   "id": "06243b05",
   "metadata": {
    "pycharm": {
     "name": "#%%\n"
    }
   },
   "outputs": [],
   "source": [
    "a = 1.3\n",
    "b = 1\n",
    "c = a - b\n",
    "c = round(c)\n",
    "42 / c"
   ]
  },
  {
   "cell_type": "markdown",
   "metadata": {
    "collapsed": false,
    "pycharm": {
     "name": "#%% md\n"
    }
   },
   "source": []
  },
  {
   "cell_type": "code",
   "execution_count": 53,
   "metadata": {
    "collapsed": false,
    "pycharm": {
     "name": "#%%\n"
    }
   },
   "outputs": [
    {
     "ename": "IndexError",
     "evalue": "string index out of range",
     "output_type": "error",
     "traceback": [
      "\u001B[0;31m---------------------------------------------------------------------------\u001B[0m",
      "\u001B[0;31mIndexError\u001B[0m                                Traceback (most recent call last)",
      "Cell \u001B[0;32mIn [53], line 1\u001B[0m\n\u001B[0;32m----> 1\u001B[0m \u001B[38;5;124;43m'\u001B[39;49m\u001B[38;5;124;43mbug\u001B[39;49m\u001B[38;5;124;43m'\u001B[39;49m\u001B[43m[\u001B[49m\u001B[38;5;241;43m3\u001B[39;49m\u001B[43m]\u001B[49m\n",
      "\u001B[0;31mIndexError\u001B[0m: string index out of range"
     ]
    }
   ],
   "source": [
    "'bug'[3]"
   ]
  },
  {
   "cell_type": "markdown",
   "metadata": {
    "collapsed": false,
    "pycharm": {
     "name": "#%% md\n"
    }
   },
   "source": [
    "TypeError"
   ]
  },
  {
   "cell_type": "code",
   "execution_count": 54,
   "metadata": {
    "collapsed": false,
    "pycharm": {
     "name": "#%%\n"
    }
   },
   "outputs": [
    {
     "ename": "TypeError",
     "evalue": "can only concatenate str (not \"int\") to str",
     "output_type": "error",
     "traceback": [
      "\u001B[0;31m---------------------------------------------------------------------------\u001B[0m",
      "\u001B[0;31mTypeError\u001B[0m                                 Traceback (most recent call last)",
      "Cell \u001B[0;32mIn [54], line 1\u001B[0m\n\u001B[0;32m----> 1\u001B[0m \u001B[38;5;124;43m'\u001B[39;49m\u001B[38;5;124;43mbug\u001B[39;49m\u001B[38;5;124;43m'\u001B[39;49m\u001B[43m \u001B[49m\u001B[38;5;241;43m+\u001B[39;49m\u001B[43m \u001B[49m\u001B[38;5;241;43m3\u001B[39;49m\n",
      "\u001B[0;31mTypeError\u001B[0m: can only concatenate str (not \"int\") to str"
     ]
    }
   ],
   "source": [
    "'bug' + 3"
   ]
  },
  {
   "cell_type": "markdown",
   "metadata": {
    "collapsed": false,
    "pycharm": {
     "name": "#%% md\n"
    }
   },
   "source": [
    "ValueError"
   ]
  },
  {
   "cell_type": "code",
   "execution_count": 55,
   "metadata": {
    "collapsed": false,
    "pycharm": {
     "name": "#%%\n"
    }
   },
   "outputs": [
    {
     "ename": "ValueError",
     "evalue": "invalid literal for int() with base 10: 'forty two'",
     "output_type": "error",
     "traceback": [
      "\u001B[0;31m---------------------------------------------------------------------------\u001B[0m",
      "\u001B[0;31mValueError\u001B[0m                                Traceback (most recent call last)",
      "Cell \u001B[0;32mIn [55], line 1\u001B[0m\n\u001B[0;32m----> 1\u001B[0m \u001B[38;5;28;43mint\u001B[39;49m\u001B[43m(\u001B[49m\u001B[38;5;124;43m'\u001B[39;49m\u001B[38;5;124;43mforty two\u001B[39;49m\u001B[38;5;124;43m'\u001B[39;49m\u001B[43m)\u001B[49m\n",
      "\u001B[0;31mValueError\u001B[0m: invalid literal for int() with base 10: 'forty two'"
     ]
    }
   ],
   "source": [
    "int('forty two')"
   ]
  },
  {
   "cell_type": "markdown",
   "metadata": {
    "collapsed": false,
    "pycharm": {
     "name": "#%% md\n"
    }
   },
   "source": [
    "You are free to create your own errors"
   ]
  },
  {
   "cell_type": "code",
   "execution_count": 56,
   "metadata": {
    "collapsed": false,
    "pycharm": {
     "name": "#%%\n"
    }
   },
   "outputs": [
    {
     "ename": "Exception",
     "evalue": "my custom exception",
     "output_type": "error",
     "traceback": [
      "\u001B[0;31m---------------------------------------------------------------------------\u001B[0m",
      "\u001B[0;31mException\u001B[0m                                 Traceback (most recent call last)",
      "Cell \u001B[0;32mIn [56], line 1\u001B[0m\n\u001B[0;32m----> 1\u001B[0m \u001B[38;5;28;01mraise\u001B[39;00m \u001B[38;5;167;01mException\u001B[39;00m(\u001B[38;5;124m'\u001B[39m\u001B[38;5;124mmy custom exception\u001B[39m\u001B[38;5;124m'\u001B[39m)\n",
      "\u001B[0;31mException\u001B[0m: my custom exception"
     ]
    }
   ],
   "source": [
    "raise Exception('my custom exception')"
   ]
  },
  {
   "cell_type": "markdown",
   "metadata": {
    "collapsed": false,
    "pycharm": {
     "name": "#%% md\n"
    }
   },
   "source": []
  },
  {
   "cell_type": "markdown",
   "id": "be6df495",
   "metadata": {
    "pycharm": {
     "name": "#%% md\n"
    }
   },
   "source": [
    "### Input:"
   ]
  },
  {
   "cell_type": "code",
   "execution_count": 57,
   "id": "35ec5dc6",
   "metadata": {
    "pycharm": {
     "name": "#%%\n"
    }
   },
   "outputs": [
    {
     "name": "stdout",
     "output_type": "stream",
     "text": [
      "hello\t vasya!!!"
     ]
    }
   ],
   "source": [
    "name = input('What is your name?\\n')  # \\n means a line break \\t means tab\n",
    "print('hello\\t', name, end='!!!')  # input always return str"
   ]
  },
  {
   "cell_type": "markdown",
   "id": "4c4607b3",
   "metadata": {
    "pycharm": {
     "name": "#%% md\n"
    }
   },
   "source": [
    "### Conditions"
   ]
  },
  {
   "cell_type": "code",
   "execution_count": 3,
   "id": "388013d8",
   "metadata": {
    "pycharm": {
     "name": "#%%\n"
    }
   },
   "outputs": [
    {
     "name": "stdout",
     "output_type": "stream",
     "text": [
      "positive\n",
      "положительное\n",
      "БОЛЬШОЕ ЧИСЛО!\n",
      "ОЧЕНЬ БОЛЬШОЕ ЧИСЛО!\n",
      "end\n"
     ]
    }
   ],
   "source": [
    "number = int(input('Enter a number: '))\n",
    "if number > 0:\n",
    "    print('positive')\n",
    "    print('положительное')\n",
    "    if number > 100:\n",
    "        print('БОЛЬШОЕ ЧИСЛО!')\n",
    "        if number > 1000:\n",
    "            print('ОЧЕНЬ БОЛЬШОЕ ЧИСЛО!')\n",
    "            if number > 10000:\n",
    "                print('ОЧЕНЬ ОЧЕНЬ ОЧЕНЬ ОЧЕНЬ БОЛЬШОЕ ЧИСЛО!')\n",
    "elif number < 0:\n",
    "    print('negative')\n",
    "    print('отрицательное')\n",
    "    if number < -100:\n",
    "        print('маленькое число')\n",
    "else:\n",
    "    print('zero')\n",
    "    print('ноль')\n",
    "print('end')"
   ]
  },
  {
   "cell_type": "markdown",
   "metadata": {
    "collapsed": false,
    "pycharm": {
     "name": "#%% md\n"
    }
   },
   "source": [
    "### Difference between multiple Ifs and Else (Else If)"
   ]
  },
  {
   "cell_type": "code",
   "execution_count": 5,
   "metadata": {
    "collapsed": false,
    "pycharm": {
     "name": "#%%\n"
    }
   },
   "outputs": [
    {
     "name": "stdout",
     "output_type": "stream",
     "text": [
      "big number\n",
      "positive\n",
      "--------------------\n",
      "big number\n"
     ]
    }
   ],
   "source": [
    "number = 101\n",
    "if number > 100:\n",
    "    print('big number')\n",
    "if number > 0:\n",
    "    print('positive')\n",
    "\n",
    "print('--------------------')\n",
    "\n",
    "if number > 100:\n",
    "    print('big number')\n",
    "elif number > 0:\n",
    "    print('positive')\n",
    "\n"
   ]
  },
  {
   "cell_type": "markdown",
   "metadata": {
    "collapsed": false,
    "pycharm": {
     "name": "#%% md\n"
    }
   },
   "source": [
    "### Ternary operator"
   ]
  },
  {
   "cell_type": "code",
   "execution_count": 15,
   "metadata": {
    "collapsed": false,
    "pycharm": {
     "name": "#%%\n"
    }
   },
   "outputs": [
    {
     "ename": "ValueError",
     "evalue": "invalid literal for int() with base 10: 'hello'",
     "output_type": "error",
     "traceback": [
      "\u001B[0;31m---------------------------------------------------------------------------\u001B[0m",
      "\u001B[0;31mValueError\u001B[0m                                Traceback (most recent call last)",
      "Cell \u001B[0;32mIn [15], line 1\u001B[0m\n\u001B[0;32m----> 1\u001B[0m number \u001B[38;5;241m=\u001B[39m \u001B[38;5;28;43mint\u001B[39;49m\u001B[43m(\u001B[49m\u001B[38;5;28;43minput\u001B[39;49m\u001B[43m(\u001B[49m\u001B[43m)\u001B[49m\u001B[43m)\u001B[49m\n\u001B[1;32m      2\u001B[0m \u001B[38;5;66;03m# if number > 0:\u001B[39;00m\n\u001B[1;32m      3\u001B[0m \u001B[38;5;66;03m#     number = number\u001B[39;00m\n\u001B[1;32m      4\u001B[0m \u001B[38;5;66;03m# else:\u001B[39;00m\n\u001B[1;32m      5\u001B[0m \u001B[38;5;66;03m#     number = 0\u001B[39;00m\n\u001B[1;32m      6\u001B[0m number \u001B[38;5;241m=\u001B[39m number \u001B[38;5;28;01mif\u001B[39;00m number \u001B[38;5;241m>\u001B[39m \u001B[38;5;241m0\u001B[39m \u001B[38;5;28;01melse\u001B[39;00m \u001B[38;5;241m0\u001B[39m\n",
      "\u001B[0;31mValueError\u001B[0m: invalid literal for int() with base 10: 'hello'"
     ]
    }
   ],
   "source": [
    "number = int(input())\n",
    "# if number > 0:\n",
    "#     number = number\n",
    "# else:\n",
    "#     number = 0\n",
    "number = number if number > 0 else 0\n",
    "print(number)"
   ]
  },
  {
   "cell_type": "markdown",
   "id": "8a7c882d",
   "metadata": {
    "pycharm": {
     "name": "#%% md\n"
    }
   },
   "source": [
    "### Exceptions:"
   ]
  },
  {
   "cell_type": "code",
   "execution_count": 17,
   "metadata": {
    "collapsed": false,
    "pycharm": {
     "name": "#%%\n"
    }
   },
   "outputs": [
    {
     "name": "stdout",
     "output_type": "stream",
     "text": [
      "not a number!\n",
      "positive\n"
     ]
    }
   ],
   "source": [
    "try:\n",
    "    number = int(input('Enter a number: '))  # what if user enters not a number?\n",
    "except:\n",
    "    print('not a number!')\n",
    "    exit(1)  # stop the program with status error\n",
    "\n",
    "if number > 0:\n",
    "    print('positive')\n",
    "elif number < 0:\n",
    "    print('negative')\n",
    "else:\n",
    "    print('zero')"
   ]
  },
  {
   "cell_type": "code",
   "execution_count": 24,
   "id": "da380c9c",
   "metadata": {
    "pycharm": {
     "name": "#%%\n"
    }
   },
   "outputs": [
    {
     "name": "stdout",
     "output_type": "stream",
     "text": [
      "this stuff will never be printed 🥲\n",
      "end of program\n"
     ]
    }
   ],
   "source": [
    "try:\n",
    "    # 1 / 0\n",
    "    # 'bug'[3]\n",
    "    # 'bug' + 3\n",
    "    # int('forty two')\n",
    "    # raise Exception('my custom exception')\n",
    "    print('this stuff will never be printed 🥲')\n",
    "except Exception as e:\n",
    "    print(f'oops! exception |{e}| occured')\n",
    "print('end of program')"
   ]
  }
 ],
 "metadata": {
  "colab": {
   "name": "Sem1_Zhur (1).ipynb",
   "provenance": []
  },
  "kernelspec": {
   "display_name": "Python 3 (ipykernel)",
   "language": "python",
   "name": "python3"
  },
  "language_info": {
   "codemirror_mode": {
    "name": "ipython",
    "version": 3
   },
   "file_extension": ".py",
   "mimetype": "text/x-python",
   "name": "python",
   "nbconvert_exporter": "python",
   "pygments_lexer": "ipython3",
   "version": "3.10.2"
  }
 },
 "nbformat": 4,
 "nbformat_minor": 5
}