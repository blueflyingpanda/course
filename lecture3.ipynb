{
 "cells": [
  {
   "attachments": {},
   "cell_type": "markdown",
   "metadata": {
    "pycharm": {
     "name": "#%% md\n"
    }
   },
   "source": [
    "# Functions"
   ]
  },
  {
   "cell_type": "code",
   "execution_count": null,
   "outputs": [],
   "source": [
    "print('Hello and welcome!')\n",
    "print('How are you?')\n",
    "print('You need to register to start using the app')"
   ],
   "metadata": {
    "collapsed": false,
    "pycharm": {
     "name": "#%%\n"
    }
   }
  },
  {
   "cell_type": "code",
   "execution_count": null,
   "outputs": [],
   "source": [
    "def greeting():\n",
    "    print('Hello and welcome!')\n",
    "    print('How are you?')\n",
    "    print('You need to register to start using the app')"
   ],
   "metadata": {
    "collapsed": false,
    "pycharm": {
     "name": "#%%\n"
    }
   }
  },
  {
   "cell_type": "code",
   "execution_count": null,
   "outputs": [],
   "source": [
    "greeting()"
   ],
   "metadata": {
    "collapsed": false,
    "pycharm": {
     "name": "#%%\n"
    }
   }
  },
  {
   "cell_type": "markdown",
   "source": [
    "parameters"
   ],
   "metadata": {
    "collapsed": false,
    "pycharm": {
     "name": "#%% md\n"
    }
   }
  },
  {
   "cell_type": "code",
   "execution_count": null,
   "outputs": [],
   "source": [
    "def enhanced_greeting(name: str):\n",
    "    print(f'Nice too meet ya - {name}')\n",
    "    print('whats up?')"
   ],
   "metadata": {
    "collapsed": false,
    "pycharm": {
     "name": "#%%\n"
    }
   }
  },
  {
   "cell_type": "code",
   "execution_count": null,
   "outputs": [],
   "source": [
    "enhanced_greeting('Petruha')\n",
    "print('-' * 10)\n",
    "username = 'Feodosiya'\n",
    "enhanced_greeting(username)"
   ],
   "metadata": {
    "collapsed": false,
    "pycharm": {
     "name": "#%%\n"
    }
   }
  },
  {
   "cell_type": "markdown",
   "source": [
    "nested functions"
   ],
   "metadata": {
    "collapsed": false,
    "pycharm": {
     "name": "#%% md\n"
    }
   }
  },
  {
   "cell_type": "code",
   "execution_count": null,
   "outputs": [],
   "source": [
    "def super_greeting(the_name: str):\n",
    "    \"\"\"\n",
    "    combines greeting() and enhanced_greeting(name)\n",
    "\n",
    "    :param name: who we are greeting\n",
    "    :return: nothing\n",
    "    \"\"\"\n",
    "    enhanced_greeting(the_name)\n",
    "    greeting()"
   ],
   "metadata": {
    "collapsed": false,
    "pycharm": {
     "name": "#%%\n"
    }
   }
  },
  {
   "cell_type": "code",
   "execution_count": null,
   "outputs": [],
   "source": [
    "super_greeting(the_name='Leonid')"
   ],
   "metadata": {
    "collapsed": false,
    "pycharm": {
     "name": "#%%\n"
    }
   }
  },
  {
   "cell_type": "markdown",
   "source": [
    "keyword arguments (optional)"
   ],
   "metadata": {
    "collapsed": false,
    "pycharm": {
     "name": "#%% md\n"
    }
   }
  },
  {
   "cell_type": "code",
   "execution_count": null,
   "outputs": [],
   "source": [
    "def give_concert(band: str = 'Nirvana', album: str = 'Bleach', solo: str = 'Kurt Cobain', country: str = 'Romania', songs: tuple = ('Scoff', 'Blew', 'Downer')):\n",
    "    print(f'{band} came to {country}')\n",
    "    print(f'{solo} sung {len(songs)} songs from the album {album}')\n",
    "    print('The order was:')\n",
    "    for song in songs:\n",
    "        print('🎸', song)"
   ],
   "metadata": {
    "collapsed": false,
    "pycharm": {
     "name": "#%%\n"
    }
   }
  },
  {
   "cell_type": "code",
   "execution_count": null,
   "outputs": [],
   "source": [
    "give_concert()\n",
    "give_concert(band='Arya', solo='Kipelov')"
   ],
   "metadata": {
    "collapsed": false,
    "pycharm": {
     "name": "#%%\n"
    }
   }
  },
  {
   "cell_type": "markdown",
   "source": [
    "mix of obligatory and optional"
   ],
   "metadata": {
    "collapsed": false,
    "pycharm": {
     "name": "#%% md\n"
    }
   }
  },
  {
   "cell_type": "code",
   "execution_count": null,
   "outputs": [],
   "source": [
    "def give_a_concert(band: str, album: str, solo: str, country: str, songs: tuple = tuple()):\n",
    "    print(f'{band} came to {country}')\n",
    "    if songs:\n",
    "        print(f'{solo} sung {len(songs)} songs from the album {album}')\n",
    "        print('The order was:')\n",
    "        for song in songs:\n",
    "            print('🎸', song)"
   ],
   "metadata": {
    "collapsed": false,
    "pycharm": {
     "name": "#%%\n"
    }
   }
  },
  {
   "cell_type": "code",
   "execution_count": null,
   "outputs": [],
   "source": [
    "# give_a_concert()\n",
    "give_a_concert(band='Arya', solo='Kipelov', album='Tochka nevozvrata', country='Poland')\n",
    "give_a_concert(band='Arya', solo='Kipelov', album='Chimera', country='Poland', songs=('Fenix', 'Tochka nevozvrata', 'Kolizey'))"
   ],
   "metadata": {
    "collapsed": false,
    "pycharm": {
     "name": "#%%\n"
    }
   }
  },
  {
   "cell_type": "markdown",
   "source": [
    "advanced type hinting"
   ],
   "metadata": {
    "collapsed": false,
    "pycharm": {
     "name": "#%% md\n"
    }
   }
  },
  {
   "cell_type": "code",
   "execution_count": null,
   "outputs": [],
   "source": [
    "from typing import Tuple\n",
    "\n",
    "def give_a_super_concert(band: str, album: str, solo: str, country: str, songs: Tuple[str] = tuple()):\n",
    "    pass"
   ],
   "metadata": {
    "collapsed": false,
    "pycharm": {
     "name": "#%%\n"
    }
   }
  },
  {
   "cell_type": "markdown",
   "source": [
    "## don't do this"
   ],
   "metadata": {
    "collapsed": false,
    "pycharm": {
     "name": "#%% md\n"
    }
   }
  },
  {
   "cell_type": "code",
   "execution_count": null,
   "outputs": [],
   "source": [
    "from datetime import datetime\n",
    "\n",
    "def phony_function(current_time=datetime.now(), animal: dict = {'pet': 'cat', 'age': 5}, emotions: list = ['happy']):\n",
    "    print(current_time)\n",
    "    print(animal)\n",
    "    print(emotions)\n",
    "    animal['age'] += 1\n",
    "    emotions.append('sad')"
   ],
   "metadata": {
    "collapsed": false,
    "pycharm": {
     "name": "#%%\n"
    }
   }
  },
  {
   "cell_type": "code",
   "execution_count": null,
   "outputs": [],
   "source": [
    "phony_function()\n",
    "print('-' * 10)\n",
    "phony_function()\n",
    "print('-' * 10)\n",
    "phony_function()"
   ],
   "metadata": {
    "collapsed": false,
    "pycharm": {
     "name": "#%%\n"
    }
   }
  },
  {
   "cell_type": "markdown",
   "source": [
    "![This is the way](https://media.tenor.com/UFXpodC9gLUAAAAC/this-is-the-way-this-is-the-way-mandalorian.gif)"
   ],
   "metadata": {
    "collapsed": false,
    "pycharm": {
     "name": "#%% md\n"
    }
   }
  },
  {
   "cell_type": "code",
   "execution_count": null,
   "outputs": [],
   "source": [
    "from typing import Dict, List, Optional\n",
    "\n",
    "def this_is_the_way(current_time=None, animal: Optional[Dict] = None, emotions: Optional[List] = None):\n",
    "    if not current_time:\n",
    "        current_time=datetime.now()\n",
    "    if not animal:\n",
    "        animal: dict = {'pet': 'cat', 'age': 5}\n",
    "    if not emotions:\n",
    "        emotions = ['happy']\n",
    "\n",
    "    print(current_time)\n",
    "    print(animal)\n",
    "    print(emotions)\n",
    "    animal['age'] += 1\n",
    "    emotions.append('sad')"
   ],
   "metadata": {
    "collapsed": false,
    "pycharm": {
     "name": "#%%\n"
    }
   }
  },
  {
   "cell_type": "code",
   "execution_count": null,
   "outputs": [],
   "source": [
    "this_is_the_way()\n",
    "print('-' * 10)\n",
    "this_is_the_way()\n",
    "print('-' * 10)\n",
    "this_is_the_way()"
   ],
   "metadata": {
    "collapsed": false,
    "pycharm": {
     "name": "#%%\n"
    }
   }
  },
  {
   "cell_type": "markdown",
   "source": [
    "return value"
   ],
   "metadata": {
    "collapsed": false,
    "pycharm": {
     "name": "#%% md\n"
    }
   }
  },
  {
   "cell_type": "code",
   "execution_count": null,
   "outputs": [],
   "source": [
    "def get_second_last_digit_of(number: int) -> int:\n",
    "    result = number // 10\n",
    "    return result % 10"
   ],
   "metadata": {
    "collapsed": false,
    "pycharm": {
     "name": "#%%\n"
    }
   }
  },
  {
   "cell_type": "code",
   "execution_count": null,
   "outputs": [],
   "source": [
    "print(get_second_last_digit_of(793))\n",
    "print(get_second_last_digit_of(4125))"
   ],
   "metadata": {
    "collapsed": false,
    "pycharm": {
     "name": "#%%\n"
    }
   }
  },
  {
   "cell_type": "markdown",
   "source": [
    "return several values (workaround! generally nor recommended)"
   ],
   "metadata": {
    "collapsed": false,
    "pycharm": {
     "name": "#%% md\n"
    }
   }
  },
  {
   "cell_type": "code",
   "execution_count": null,
   "outputs": [],
   "source": [
    "def get_initials(name: str):\n",
    "    fname, lname = name.split()\n",
    "    return fname[0], lname[0]"
   ],
   "metadata": {
    "collapsed": false,
    "pycharm": {
     "name": "#%%\n"
    }
   }
  },
  {
   "cell_type": "code",
   "execution_count": null,
   "outputs": [],
   "source": [
    "fname_initial, lname_initial = get_initials('Wayne Harris')\n",
    "print(f'{fname_initial}.{lname_initial}.')"
   ],
   "metadata": {
    "collapsed": false,
    "pycharm": {
     "name": "#%%\n"
    }
   }
  },
  {
   "cell_type": "markdown",
   "metadata": {
    "collapsed": false,
    "pycharm": {
     "name": "#%% md\n"
    }
   },
   "source": [
    "# Modules"
   ]
  },
  {
   "cell_type": "code",
   "execution_count": null,
   "outputs": [],
   "source": [
    "import time  # works with time\n",
    "import datetime  # works with dates\n",
    "import json\n",
    "import math\n",
    "import os  # stands for Operation System"
   ],
   "metadata": {
    "collapsed": false,
    "pycharm": {
     "name": "#%%\n"
    }
   }
  },
  {
   "cell_type": "markdown",
   "source": [
    "partial imports"
   ],
   "metadata": {
    "collapsed": false,
    "pycharm": {
     "name": "#%% md\n"
    }
   }
  },
  {
   "cell_type": "code",
   "execution_count": null,
   "outputs": [],
   "source": [
    "from math import floor\n",
    "\n",
    "print(floor(41.99))"
   ],
   "metadata": {
    "collapsed": false,
    "pycharm": {
     "name": "#%%\n"
    }
   }
  },
  {
   "cell_type": "markdown",
   "source": [
    "3rd party imports"
   ],
   "metadata": {
    "collapsed": false,
    "pycharm": {
     "name": "#%% md\n"
    }
   }
  },
  {
   "cell_type": "code",
   "execution_count": null,
   "outputs": [],
   "source": [
    "from time import sleep\n",
    "from tqdm import tqdm\n",
    "\n",
    "for _ in tqdm(range(100)):\n",
    "    sleep(0.04)\n",
    "print('done!')"
   ],
   "metadata": {
    "collapsed": false,
    "pycharm": {
     "name": "#%%\n"
    }
   }
  },
  {
   "cell_type": "markdown",
   "source": [
    "installing using package manager"
   ],
   "metadata": {
    "collapsed": false,
    "pycharm": {
     "name": "#%% md\n"
    }
   }
  },
  {
   "cell_type": "code",
   "execution_count": null,
   "outputs": [],
   "source": [
    "%pip install tqdm"
   ],
   "metadata": {
    "collapsed": false,
    "pycharm": {
     "name": "#%%\n"
    }
   }
  },
  {
   "cell_type": "markdown",
   "source": [
    "custom imports"
   ],
   "metadata": {
    "collapsed": false,
    "pycharm": {
     "name": "#%% md\n"
    }
   }
  },
  {
   "cell_type": "code",
   "execution_count": null,
   "outputs": [],
   "source": [
    "from hogwarts import cast_random_spell\n",
    "\n",
    "print(cast_random_spell())\n",
    "\n",
    "more_spells = ['Petrificus Totalus', 'Crucio', 'Emperio', 'Sectumsempra', 'Salvio Hexia', 'Incendio', 'Impedimenta', 'Levicorpus']\n",
    "print(cast_random_spell(additional_spells=more_spells))\n",
    "print(cast_random_spell(more_spells))"
   ],
   "metadata": {
    "collapsed": false,
    "pycharm": {
     "name": "#%%\n"
    }
   }
  },
  {
   "cell_type": "markdown",
   "metadata": {
    "collapsed": false,
    "pycharm": {
     "name": "#%% md\n"
    }
   },
   "source": [
    "# Asserts"
   ]
  },
  {
   "cell_type": "code",
   "execution_count": null,
   "outputs": [],
   "source": [
    "def decrement(value):\n",
    "    return value - 1\n",
    "\n",
    "one = 1\n",
    "\n",
    "assert 1 == 1\n",
    "assert one == one\n",
    "assert one == 1\n",
    "assert decrement(one) == 0\n",
    "assert decrement(one) == 1"
   ],
   "metadata": {
    "collapsed": false,
    "pycharm": {
     "name": "#%%\n"
    }
   }
  },
  {
   "cell_type": "markdown",
   "source": [
    "# Homework"
   ],
   "metadata": {
    "collapsed": false,
    "pycharm": {
     "name": "#%% md\n"
    }
   }
  },
  {
   "cell_type": "markdown",
   "source": [
    "Implement a function create_character\n",
    "Check that faculty is valid - one of these: Gryffindor, Hufflepuff, Ravenclaw, Slytherin (if not valid return None)\n",
    "To understand details read docstring and assertion tests"
   ],
   "metadata": {
    "collapsed": false,
    "pycharm": {
     "name": "#%% md\n"
    }
   }
  },
  {
   "cell_type": "code",
   "execution_count": null,
   "outputs": [],
   "source": [
    "from datetime import datetime\n",
    "from typing import Dict, Optional\n",
    "\n",
    "\n",
    "def create_character(name: str, house: str, age: int) -> Optional[Dict]:\n",
    "    \"\"\"\n",
    "\n",
    "    :param name: character name\n",
    "    :param house: character faculty\n",
    "    :param age: character age\n",
    "    :return: a dictionary with for keys: name, faculty, age, born_in (current year - age)\n",
    "    \"\"\"\n",
    "    pass  # TODO write your code here instead of pass\n",
    "\n",
    "\n",
    "assert create_character(name='Ron Weasely', house='Gryffindor', age=17) == {'name': 'Ron Weasely', 'house': 'Gryffindor', 'age': 17, 'born_in': datetime.now().year - 17}\n",
    "assert create_character(name='Serious Black', house='Griffindor', age=39) is None\n"
   ],
   "metadata": {
    "collapsed": false,
    "pycharm": {
     "name": "#%%\n"
    }
   }
  }
 ],
 "metadata": {
  "kernelspec": {
   "display_name": "Python 3",
   "language": "python",
   "name": "python3"
  },
  "language_info": {
   "name": "python",
   "version": "3.10.8 (main, Nov 15 2022, 05:25:54) [Clang 14.0.0 (clang-1400.0.29.202)]"
  },
  "orig_nbformat": 4,
  "vscode": {
   "interpreter": {
    "hash": "aee8b7b246df8f9039afb4144a1f6fd8d2ca17a180786b69acc140d282b71a49"
   }
  }
 },
 "nbformat": 4,
 "nbformat_minor": 2
}