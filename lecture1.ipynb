{
 "cells": [
  {
   "cell_type": "markdown",
   "id": "988da6fb",
   "metadata": {
    "pycharm": {
     "name": "#%% md\n"
    }
   },
   "source": [
    "# While Loop\n",
    "is used when we don't know how many iterations will happen"
   ]
  },
  {
   "cell_type": "code",
   "execution_count": null,
   "id": "d0a6e72f",
   "metadata": {
    "pycharm": {
     "name": "#%%\n"
    }
   },
   "outputs": [],
   "source": [
    "N = int(input()) # пользователь вводит число\n",
    "\n",
    "i = 1            # вводим вспомогательный счетчик\n",
    "\n",
    "while i <= N:    # проверяемое условие\n",
    "    print(i)     # вывод числа на экран в теле цикла\n",
    "    i = i + 1    # переходим к следующему числу, увеличиваем счетчик на 1 (Вариант 2: i+=1)\n",
    "print('bye!')"
   ]
  },
  {
   "cell_type": "markdown",
   "metadata": {
    "collapsed": false,
    "pycharm": {
     "name": "#%% md\n"
    }
   },
   "source": [
    "ФОРМАТ ВВОДА:<br>\n",
    "\n",
    "целое число N - количество постов на сегодня <br>\n",
    "\n",
    "ФОРМАТ ВЫВОДА:<br>\n",
    "\n",
    "N строк вида \"Размести пост № <число>\". <br>\n",
    "В конце выводится строка \"Рабочий день завершен!\"<br>\n",
    "\n",
    "\n"
   ]
  },
  {
   "cell_type": "code",
   "execution_count": null,
   "outputs": [],
   "source": [
    "N = int(input()) # пользователь вводит число\n",
    "\n",
    "i = 1\n",
    "while i <= N:\n",
    "    print(f'Размести пост № {i}')\n",
    "    i += 1     \n",
    "print('Рабочий день завершен!')\n",
    "\n",
    "\n"
   ],
   "metadata": {
    "collapsed": false,
    "pycharm": {
     "name": "#%%\n"
    }
   }
  },
  {
   "cell_type": "markdown",
   "source": [
    "ФОРМАТ ВВОДА:\n",
    "Целые неотрицательные числа, не превосходящие 1 миллион, каждое с новой строки, затем отрицательное число, показывающее конец ввода. \n",
    "\n",
    "ФОРМАТ ВЫВОДА:\n",
    "Наименьшее число"
   ],
   "metadata": {
    "collapsed": false,
    "pycharm": {
     "name": "#%% md\n"
    }
   }
  },
  {
   "cell_type": "code",
   "execution_count": null,
   "outputs": [],
   "source": [
    "minimum = None\n",
    "while True:\n",
    "    N = int(input()) # пользователь вводит число\n",
    "    if N < 0:  # проверка выхода из цикла\n",
    "        break\n",
    "    if minimum is None: # первый ввод пользователя\n",
    "        minimum = N\n",
    "    elif minimum > N:\n",
    "        minimum = N\n",
    "print(minimum)"
   ],
   "metadata": {
    "collapsed": false,
    "pycharm": {
     "name": "#%%\n"
    }
   }
  },
  {
   "cell_type": "markdown",
   "source": [
    "# List\n",
    "\n",
    "we can say that str is a list of characters\n",
    "\n",
    "with lists we can do most of str operations\n",
    "\n",
    "indexing\n",
    "\n",
    "slicing\n",
    "\n",
    "concatenting\n",
    "\n",
    "multiplying\n",
    "\n",
    "find out the len of the list"
   ],
   "metadata": {
    "collapsed": false,
    "pycharm": {
     "name": "#%% md\n"
    }
   }
  },
  {
   "cell_type": "code",
   "execution_count": null,
   "outputs": [],
   "source": [
    "shoplist = ['apple', 'cola', 'milk', 'bread', 'towel']"
   ],
   "metadata": {
    "collapsed": false,
    "pycharm": {
     "name": "#%%\n"
    }
   }
  },
  {
   "cell_type": "code",
   "execution_count": null,
   "outputs": [],
   "source": [
    "shoplist[0]"
   ],
   "metadata": {
    "collapsed": false,
    "pycharm": {
     "name": "#%%\n"
    }
   }
  },
  {
   "cell_type": "code",
   "execution_count": null,
   "outputs": [],
   "source": [
    "shoplist[1]"
   ],
   "metadata": {
    "collapsed": false,
    "pycharm": {
     "name": "#%%\n"
    }
   }
  },
  {
   "cell_type": "code",
   "execution_count": null,
   "outputs": [],
   "source": [
    "shoplist[-1]"
   ],
   "metadata": {
    "collapsed": false,
    "pycharm": {
     "name": "#%%\n"
    }
   }
  },
  {
   "cell_type": "code",
   "execution_count": null,
   "outputs": [],
   "source": [
    "shoplist[1:4:2]"
   ],
   "metadata": {
    "collapsed": false,
    "pycharm": {
     "name": "#%%\n"
    }
   }
  },
  {
   "cell_type": "code",
   "execution_count": null,
   "outputs": [],
   "source": [
    "shoplist += ['donut', 'tea']\n",
    "shoplist"
   ],
   "metadata": {
    "collapsed": false,
    "pycharm": {
     "name": "#%%\n"
    }
   }
  },
  {
   "cell_type": "code",
   "execution_count": null,
   "outputs": [],
   "source": [
    "['coffee'] * 7"
   ],
   "metadata": {
    "collapsed": false,
    "pycharm": {
     "name": "#%%\n"
    }
   }
  },
  {
   "cell_type": "code",
   "execution_count": null,
   "outputs": [],
   "source": [
    "len(['cofee'] * 7 + shoplist)"
   ],
   "metadata": {
    "collapsed": false,
    "pycharm": {
     "name": "#%%\n"
    }
   }
  },
  {
   "cell_type": "markdown",
   "source": [
    "You can add elements to the list using append() method\n",
    "\n",
    "methods are like functions but linked to an object. In our case the object is of type list\n"
   ],
   "metadata": {
    "collapsed": false,
    "pycharm": {
     "name": "#%% md\n"
    }
   }
  },
  {
   "cell_type": "code",
   "execution_count": null,
   "outputs": [],
   "source": [
    "shoplist.append('chocolate')\n",
    "shoplist"
   ],
   "metadata": {
    "collapsed": false,
    "pycharm": {
     "name": "#%%\n"
    }
   }
  },
  {
   "cell_type": "markdown",
   "source": [
    "You can remove elements by index using pop() method\n",
    "\n",
    "methods are like functions but linked to an object. In our case the object is of type list\n"
   ],
   "metadata": {
    "collapsed": false,
    "pycharm": {
     "name": "#%% md\n"
    }
   }
  },
  {
   "cell_type": "code",
   "execution_count": null,
   "outputs": [],
   "source": [
    "# element = shoplist.pop(-2)\n",
    "# print(element)\n",
    "# shoplist += ['milk']\n",
    "shoplist"
   ],
   "metadata": {
    "collapsed": false,
    "pycharm": {
     "name": "#%%\n"
    }
   }
  },
  {
   "cell_type": "markdown",
   "source": [
    "You can remove elements by name using remove() method\n",
    "\n",
    "methods are like functions but linked to an object. In our case the object is of type list\n"
   ],
   "metadata": {
    "collapsed": false,
    "pycharm": {
     "name": "#%% md\n"
    }
   }
  },
  {
   "cell_type": "code",
   "execution_count": null,
   "outputs": [],
   "source": [
    "shoplist.remove('milk')\n",
    "shoplist"
   ],
   "metadata": {
    "collapsed": false,
    "pycharm": {
     "name": "#%%\n"
    }
   }
  },
  {
   "cell_type": "markdown",
   "source": [
    "You can get a list out of str using str method split()\n",
    "\n",
    "methods are like functions but linked to an object. In our case the object is of type str"
   ],
   "metadata": {
    "collapsed": false,
    "pycharm": {
     "name": "#%% md\n"
    }
   }
  },
  {
   "cell_type": "code",
   "execution_count": null,
   "outputs": [],
   "source": [
    "animals = 'cat dog elephant bear fish'.split()\n",
    "csv = 'home, work, travel'.split(sep=', ')  # specifying the separator\n",
    "print(animals)\n",
    "print(csv)"
   ],
   "metadata": {
    "collapsed": false,
    "pycharm": {
     "name": "#%%\n"
    }
   }
  },
  {
   "cell_type": "markdown",
   "source": [
    "you can sort a list or get min/max value or get a sum of all elements"
   ],
   "metadata": {
    "collapsed": false,
    "pycharm": {
     "name": "#%% md\n"
    }
   }
  },
  {
   "cell_type": "code",
   "execution_count": null,
   "outputs": [],
   "source": [
    "numbers = [21, 12, 10, 42, 5, 169, 168]\n",
    "print(sorted(numbers))\n",
    "print(max(numbers))\n",
    "print(min(numbers))\n",
    "print(sum(numbers))"
   ],
   "metadata": {
    "collapsed": false,
    "pycharm": {
     "name": "#%%\n"
    }
   }
  },
  {
   "cell_type": "markdown",
   "source": [
    "# Range"
   ],
   "metadata": {
    "collapsed": false,
    "pycharm": {
     "name": "#%% md\n"
    }
   }
  },
  {
   "cell_type": "code",
   "execution_count": null,
   "outputs": [],
   "source": [
    "list(range(3))  # starting from zero and not including argument"
   ],
   "metadata": {
    "collapsed": false,
    "pycharm": {
     "name": "#%%\n"
    }
   }
  },
  {
   "cell_type": "code",
   "execution_count": null,
   "outputs": [],
   "source": [
    "list(range(1,6))  # starting from first argument (including) to last argument (not including)"
   ],
   "metadata": {
    "collapsed": false,
    "pycharm": {
     "name": "#%%\n"
    }
   }
  },
  {
   "cell_type": "code",
   "execution_count": null,
   "outputs": [],
   "source": [
    "list(range(1,20,3))  # third argument is called step. Step is specifying how many numbers to skip"
   ],
   "metadata": {
    "collapsed": false,
    "pycharm": {
     "name": "#%%\n"
    }
   }
  },
  {
   "cell_type": "code",
   "execution_count": null,
   "outputs": [],
   "source": [
    "shoplist"
   ],
   "metadata": {
    "collapsed": false,
    "pycharm": {
     "name": "#%%\n"
    }
   }
  },
  {
   "cell_type": "markdown",
   "source": [
    "# For Loop\n",
    "is used when we know the exact number of itterations"
   ],
   "metadata": {
    "collapsed": false,
    "pycharm": {
     "name": "#%% md\n"
    }
   }
  },
  {
   "cell_type": "code",
   "execution_count": null,
   "outputs": [],
   "source": [
    "for i in shoplist:\n",
    "    print(i,'✅')\n",
    "print('end!')"
   ],
   "metadata": {
    "collapsed": false,
    "pycharm": {
     "name": "#%%\n"
    }
   }
  },
  {
   "cell_type": "markdown",
   "source": [
    "continue allows to move to next iteration without finishing current iteration"
   ],
   "metadata": {
    "collapsed": false,
    "pycharm": {
     "name": "#%% md\n"
    }
   }
  },
  {
   "cell_type": "code",
   "execution_count": null,
   "outputs": [],
   "source": [
    "for i in range(10):\n",
    "    if i % 2 == 0: \n",
    "        print(i)"
   ],
   "metadata": {
    "collapsed": false,
    "pycharm": {
     "name": "#%%\n"
    }
   }
  },
  {
   "cell_type": "markdown",
   "source": [
    "break gets you out of the loop"
   ],
   "metadata": {
    "collapsed": false,
    "pycharm": {
     "name": "#%% md\n"
    }
   }
  },
  {
   "cell_type": "code",
   "execution_count": null,
   "outputs": [],
   "source": [
    "for i in range(1000):\n",
    "    if i == 7:\n",
    "        break\n",
    "    print(i)"
   ],
   "metadata": {
    "collapsed": false,
    "pycharm": {
     "name": "#%%\n"
    }
   }
  },
  {
   "cell_type": "markdown",
   "source": [
    "Завершение всей программы\n",
    "\n",
    "exit(0) или exit(1)"
   ],
   "metadata": {
    "collapsed": false,
    "pycharm": {
     "name": "#%% md\n"
    }
   }
  },
  {
   "cell_type": "markdown",
   "source": [
    "Every for loop can be rewritten as while loop, but while loop is more error prone"
   ],
   "metadata": {
    "collapsed": false,
    "pycharm": {
     "name": "#%% md\n"
    }
   }
  },
  {
   "cell_type": "code",
   "execution_count": null,
   "outputs": [],
   "source": [
    "# for i in range(4):\n",
    "#     print(i)\n",
    "# print('----------------')\n",
    "# index = 0\n",
    "# while index < 4:\n",
    "#     print(index)\n",
    "#     index += 1\n",
    "# print('----------------')\n",
    "for item in shoplist:\n",
    "    print(item)\n",
    "print('----------------')\n",
    "x = 0\n",
    "while x < len(shoplist):\n",
    "    print(shoplist[x])\n",
    "    x += 1"
   ],
   "metadata": {
    "collapsed": false,
    "pycharm": {
     "name": "#%%\n"
    }
   }
  },
  {
   "cell_type": "markdown",
   "source": [
    "print all even numbers from zero to n"
   ],
   "metadata": {
    "collapsed": false,
    "pycharm": {
     "name": "#%% md\n"
    }
   }
  },
  {
   "cell_type": "code",
   "execution_count": null,
   "outputs": [],
   "source": [
    "n = int(input())"
   ],
   "metadata": {
    "collapsed": false,
    "pycharm": {
     "name": "#%%\n"
    }
   }
  },
  {
   "cell_type": "markdown",
   "source": [
    "Input a string with numbers separated by '; ' find max number"
   ],
   "metadata": {
    "collapsed": false,
    "pycharm": {
     "name": "#%% md\n"
    }
   }
  },
  {
   "cell_type": "code",
   "execution_count": null,
   "outputs": [],
   "source": [
    "s = input('string with numbers separated by \"; \"')  # 42; 21; 168"
   ],
   "metadata": {
    "collapsed": false,
    "pycharm": {
     "name": "#%%\n"
    }
   }
  },
  {
   "cell_type": "markdown",
   "source": [
    "Unpacking"
   ],
   "metadata": {
    "collapsed": false,
    "pycharm": {
     "name": "#%% md\n"
    }
   }
  },
  {
   "cell_type": "code",
   "execution_count": null,
   "outputs": [],
   "source": [
    "# l, r = constant_lst\n",
    "# print(l)\n",
    "# print(r)\n",
    "# l, m, _ = lst\n",
    "# print(l)\n",
    "# print(m)\n",
    "# print(r)\n",
    "t = [1,42,84]\n",
    "t[2] = 100\n",
    "t"
   ],
   "metadata": {
    "collapsed": false,
    "pycharm": {
     "name": "#%%\n"
    }
   }
  },
  {
   "cell_type": "markdown",
   "source": [
    "### str methods"
   ],
   "metadata": {
    "collapsed": false,
    "pycharm": {
     "name": "#%% md\n"
    }
   }
  },
  {
   "cell_type": "code",
   "execution_count": null,
   "outputs": [],
   "source": [
    "text = '         For example, the years 1700, 1800, and 1900 are not leap years, but the years 1600 and 2000 are            '\n",
    "# print(text.split())\n",
    "# print(text.split()[-2])\n",
    "# print('_'.join(['I', 'adore', 'my', 'cat']))\n",
    "# print(text.lstrip())\n",
    "# print(text.rstrip())\n",
    "# print(text.strip())\n",
    "# print(text.find('00'))\n",
    "# print(text.rfind('00'))\n",
    "# print(text.lower())\n",
    "# print(text.upper())\n",
    "# print(text.capitalize())\n",
    "# print(text.isalpha())\n",
    "# print(text.isnumeric())\n",
    "# print(text.isalnum())\n",
    "# print(text.replace('0', 'ZERO'))\n",
    "print(text.count('the'))\n",
    "# print(text.startswith('For example,'))\n",
    "# print(text.endswith('are'))\n",
    "# print(text.removeprefix('For example, '))\n",
    "# print(text.removesuffix('are'))"
   ],
   "metadata": {
    "collapsed": false,
    "pycharm": {
     "name": "#%%\n"
    }
   }
  },
  {
   "cell_type": "code",
   "execution_count": 71,
   "metadata": {
    "collapsed": false,
    "pycharm": {
     "name": "#%%\n"
    }
   },
   "outputs": [
    {
     "name": "stdout",
     "output_type": "stream",
     "text": [
      "2\n"
     ]
    }
   ],
   "source": [
    "text = '         For example, the years 1700, 1800, and 1900 are not leap years, but the years 1600 and 2000 are            '\n",
    "# print(text.split())\n",
    "# print(text.split()[-2])\n",
    "# print('_'.join(['I', 'adore', 'my', 'cat']))\n",
    "# print(text.lstrip())\n",
    "# print(text.rstrip())\n",
    "# print(text.strip())\n",
    "# print(text.find('00'))\n",
    "# print(text.rfind('00'))\n",
    "# print(text.lower())\n",
    "# print(text.upper())\n",
    "# print(text.capitalize())\n",
    "# print(text.isalpha())\n",
    "# print(text.isnumeric())\n",
    "# print(text.isalnum())\n",
    "# print(text.replace('0', 'ZERO'))\n",
    "print(text.count('the'))\n",
    "# print(text.startswith('For example,'))\n",
    "# print(text.endswith('are'))\n",
    "# print(text.removeprefix('For example, '))\n",
    "# print(text.removesuffix('are'))"
   ]
  },
  {
   "cell_type": "markdown",
   "id": "fd0264ca",
   "metadata": {
    "pycharm": {
     "name": "#%% md\n"
    }
   },
   "source": [
    "More list and str methods\n",
    "\n",
    "https://docs.python.org/3/tutorial/datastructures.html  LIST\n",
    "\n",
    "https://www.w3schools.com/python/python_ref_string.asp  STR"
   ]
  },
  {
   "cell_type": "markdown",
   "source": [
    "ДОМАШКА\n",
    "\n",
    "написать программу, которая складывает числа, которые ввел пользователь. Когда пользователь вводит 0 - перестаем принимать ввод пользователя и выводим на экран сумму всех чисел, которые ввел пользователь"
   ],
   "metadata": {
    "collapsed": false,
    "pycharm": {
     "name": "#%% md\n"
    }
   }
  },
  {
   "cell_type": "code",
   "execution_count": null,
   "outputs": [],
   "source": [],
   "metadata": {
    "collapsed": false,
    "pycharm": {
     "name": "#%%\n"
    }
   }
  },
  {
   "cell_type": "markdown",
   "source": [
    "написать программу которая принимает на вход возраст пользователя и если он меньше 0 или больше 120, программа пишет, что возраст неверный и просит ввести возраст еще раз и так, пока пользователь не введет верный возраст"
   ],
   "metadata": {
    "collapsed": false,
    "pycharm": {
     "name": "#%% md\n"
    }
   }
  },
  {
   "cell_type": "markdown",
   "source": [],
   "metadata": {
    "collapsed": false,
    "pycharm": {
     "name": "#%% md\n"
    }
   }
  },
  {
   "cell_type": "code",
   "execution_count": null,
   "outputs": [],
   "source": [],
   "metadata": {
    "collapsed": false,
    "pycharm": {
     "name": "#%%\n"
    }
   }
  },
  {
   "cell_type": "markdown",
   "source": [
    "написать программу, которая из shoplist выводит только те товары, которые начинаются на букву 'A'"
   ],
   "metadata": {
    "collapsed": false,
    "pycharm": {
     "name": "#%% md\n"
    }
   }
  },
  {
   "cell_type": "code",
   "execution_count": null,
   "outputs": [],
   "source": [
    "shoplist = ['Apple', 'Banana', 'Pineapple', 'Apricot', 'Peach', 'Watermelon', 'Avocado']"
   ],
   "metadata": {
    "collapsed": false,
    "pycharm": {
     "name": "#%%\n"
    }
   }
  },
  {
   "cell_type": "markdown",
   "source": [
    "вывести количество артиклей a/an/the в тексте"
   ],
   "metadata": {
    "collapsed": false,
    "pycharm": {
     "name": "#%% md\n"
    }
   }
  },
  {
   "cell_type": "code",
   "execution_count": 6,
   "outputs": [
    {
     "data": {
      "text/plain": "3"
     },
     "execution_count": 6,
     "metadata": {},
     "output_type": "execute_result"
    }
   ],
   "source": [
    "text = \"Do you have a dog? Yes, I also have a cat and a fish. The dog is my favourite pet though. But why? As I see it a cat is way more convinient. The cat I have is horrible, it always tries to eat the fish.\""
   ],
   "metadata": {
    "collapsed": false,
    "pycharm": {
     "name": "#%%\n"
    }
   }
  }
 ],
 "metadata": {
  "colab": {
   "name": "Sem1_Zhur (1).ipynb",
   "provenance": []
  },
  "kernelspec": {
   "display_name": "venv",
   "language": "python",
   "name": "python3"
  },
  "language_info": {
   "codemirror_mode": {
    "name": "ipython",
    "version": 3
   },
   "file_extension": ".py",
   "mimetype": "text/x-python",
   "name": "python",
   "nbconvert_exporter": "python",
   "pygments_lexer": "ipython3",
   "version": "3.9.15"
  },
  "vscode": {
   "interpreter": {
    "hash": "3791588517fcf0f0073525e2ba1a948795a12ec9be3b3fe83c36086ecdd36f53"
   }
  }
 },
 "nbformat": 4,
 "nbformat_minor": 5
}