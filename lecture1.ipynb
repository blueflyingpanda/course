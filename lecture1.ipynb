{
 "cells": [
  {
   "cell_type": "markdown",
   "id": "988da6fb",
   "metadata": {
    "pycharm": {
     "name": "#%% md\n"
    }
   },
   "source": [
    "# While Loop\n",
    "is used when we don't know how many iterations will happen"
   ]
  },
  {
   "cell_type": "code",
   "execution_count": null,
   "id": "d0a6e72f",
   "metadata": {
    "pycharm": {
     "name": "#%%\n"
    }
   },
   "outputs": [],
   "source": [
    "N = int(input()) # пользователь вводит число\n",
    "\n",
    "i = 1            # вводим вспомогательный счетчик\n",
    "\n",
    "while i <= N:    # проверяемое условие\n",
    "    print(i)     # вывод числа на экран в теле цикла\n",
    "    i = i + 1    # переходим к следующему числу, увеличиваем счетчик на 1 (Вариант 2: i+=1)\n",
    "print('bye!')"
   ]
  },
  {
   "cell_type": "markdown",
   "id": "a97b6610",
   "metadata": {
    "pycharm": {
     "name": "#%% md\n"
    }
   },
   "source": [
    "ФОРМАТ ВВОДА:<br>\n",
    "\n",
    "целое число N - количество постов на сегодня <br>\n",
    "\n",
    "ФОРМАТ ВЫВОДА:<br>\n",
    "\n",
    "N строк вида \"Размести пост № <число>\". <br>\n",
    "В конце выводится строка \"Рабочий день завершен!\"<br>\n",
    "\n",
    "\n"
   ]
  },
  {
   "cell_type": "code",
   "execution_count": null,
   "id": "29e30091",
   "metadata": {
    "pycharm": {
     "name": "#%%\n"
    }
   },
   "outputs": [],
   "source": []
  },
  {
   "cell_type": "markdown",
   "id": "304f0cab",
   "metadata": {
    "pycharm": {
     "name": "#%% md\n"
    }
   },
   "source": [
    "ФОРМАТ ВВОДА:\n",
    "Целые неотрицательные числа, не превосходящие 1 миллион, каждое с новой строки, затем отрицательное число, показывающее конец ввода. \n",
    "\n",
    "ФОРМАТ ВЫВОДА:\n",
    "Наименьшее число"
   ]
  },
  {
   "cell_type": "code",
   "execution_count": null,
   "id": "3329b1b7",
   "metadata": {
    "pycharm": {
     "name": "#%%\n"
    }
   },
   "outputs": [],
   "source": []
  },
  {
   "cell_type": "markdown",
   "id": "0f9b1739",
   "metadata": {
    "pycharm": {
     "name": "#%% md\n"
    }
   },
   "source": [
    "# List\n",
    "\n",
    "we can say that str is a list of characters\n",
    "\n",
    "with lists we can do most of str operations\n",
    "\n",
    "indexing\n",
    "\n",
    "slicing\n",
    "\n",
    "concatenting\n",
    "\n",
    "multiplying\n",
    "\n",
    "find out the len of the list"
   ]
  },
  {
   "cell_type": "code",
   "execution_count": null,
   "id": "4af60010",
   "metadata": {
    "pycharm": {
     "name": "#%%\n"
    }
   },
   "outputs": [],
   "source": [
    "shoplist = ['apple', 'cola', 'milk', 'bread', 'towel']"
   ]
  },
  {
   "cell_type": "code",
   "execution_count": null,
   "id": "0f7b9597",
   "metadata": {
    "pycharm": {
     "name": "#%%\n"
    }
   },
   "outputs": [],
   "source": [
    "shoplist[0]"
   ]
  },
  {
   "cell_type": "code",
   "execution_count": null,
   "id": "0f7b9597",
   "metadata": {
    "pycharm": {
     "name": "#%%\n"
    }
   },
   "outputs": [],
   "source": [
    "shoplist[1]"
   ]
  },
  {
   "cell_type": "code",
   "execution_count": null,
   "id": "0f7b9597",
   "metadata": {
    "pycharm": {
     "name": "#%%\n"
    }
   },
   "outputs": [],
   "source": [
    "shoplist[-1]"
   ]
  },
  {
   "cell_type": "code",
   "execution_count": null,
   "id": "0f7b9597",
   "metadata": {
    "pycharm": {
     "name": "#%%\n"
    }
   },
   "outputs": [],
   "source": [
    "shoplist[1:4:2]"
   ]
  },
  {
   "cell_type": "code",
   "execution_count": null,
   "id": "0f7b9597",
   "metadata": {
    "pycharm": {
     "name": "#%%\n"
    }
   },
   "outputs": [],
   "source": [
    "shoplist + ['donut', 'tea']"
   ]
  },
  {
   "cell_type": "code",
   "execution_count": null,
   "id": "0f7b9597",
   "metadata": {
    "pycharm": {
     "name": "#%%\n"
    }
   },
   "outputs": [],
   "source": [
    "['cofee'] * 7"
   ]
  },
  {
   "cell_type": "code",
   "execution_count": null,
   "id": "0f7b9597",
   "metadata": {
    "pycharm": {
     "name": "#%%\n"
    }
   },
   "outputs": [],
   "source": [
    "len(['cofee'] * 7 + shoplist)"
   ]
  },
  {
   "cell_type": "markdown",
   "id": "594da658",
   "metadata": {
    "pycharm": {
     "name": "#%% md\n"
    }
   },
   "source": [
    "You can add elements to the list using append() method\n",
    "\n",
    "methods are like functions but linked to an object. In our case the object is of type list\n"
   ]
  },
  {
   "cell_type": "code",
   "execution_count": null,
   "id": "5763907f",
   "metadata": {
    "pycharm": {
     "name": "#%%\n"
    }
   },
   "outputs": [],
   "source": [
    "shoplist.append('chocolate')\n",
    "shoplist"
   ]
  },
  {
   "cell_type": "markdown",
   "id": "594da658",
   "metadata": {
    "pycharm": {
     "name": "#%% md\n"
    }
   },
   "source": [
    "You can remove elements by index using pop() method\n",
    "\n",
    "methods are like functions but linked to an object. In our case the object is of type list\n"
   ]
  },
  {
   "cell_type": "code",
   "execution_count": null,
   "id": "5763907f",
   "metadata": {
    "pycharm": {
     "name": "#%%\n"
    }
   },
   "outputs": [],
   "source": [
    "shoplist.pop(-2)\n",
    "shoplist"
   ]
  },
  {
   "cell_type": "markdown",
   "id": "594da658",
   "metadata": {
    "pycharm": {
     "name": "#%% md\n"
    }
   },
   "source": [
    "You can remove elements by name using remove() method\n",
    "\n",
    "methods are like functions but linked to an object. In our case the object is of type list\n"
   ]
  },
  {
   "cell_type": "code",
   "execution_count": 18,
   "id": "5763907f",
   "metadata": {
    "pycharm": {
     "name": "#%%\n"
    }
   },
   "outputs": [
    {
     "data": {
      "text/plain": [
       "['apple', 'cola', 'bread', 'towel']"
      ]
     },
     "execution_count": 18,
     "metadata": {},
     "output_type": "execute_result"
    }
   ],
   "source": [
    "shoplist.remove('milk')\n",
    "shoplist"
   ]
  },
  {
   "cell_type": "markdown",
   "id": "a6e588c8",
   "metadata": {
    "pycharm": {
     "name": "#%% md\n"
    }
   },
   "source": [
    "You can get a list out of str using str method split()\n",
    "\n",
    "methods are like functions but linked to an object. In our case the object is of type str"
   ]
  },
  {
   "cell_type": "code",
   "execution_count": 19,
   "id": "2fa9f8b7",
   "metadata": {
    "pycharm": {
     "name": "#%%\n"
    }
   },
   "outputs": [
    {
     "name": "stdout",
     "output_type": "stream",
     "text": [
      "['cat', 'dog', 'elephant', 'bear', 'fish']\n",
      "['home', 'work', 'travel']\n"
     ]
    }
   ],
   "source": [
    "animals = 'cat dog elephant bear fish'.split()\n",
    "csv = 'home,work,travel'.split(sep=',')  # specifying the separator\n",
    "print(animals)\n",
    "print(csv)"
   ]
  },
  {
   "cell_type": "markdown",
   "id": "0c7c87f6",
   "metadata": {
    "pycharm": {
     "name": "#%% md\n"
    }
   },
   "source": [
    "you can sort a list or get min/max value or get a sum of all elements"
   ]
  },
  {
   "cell_type": "code",
   "execution_count": 20,
   "id": "0ba93232",
   "metadata": {
    "pycharm": {
     "name": "#%%\n"
    }
   },
   "outputs": [
    {
     "name": "stdout",
     "output_type": "stream",
     "text": [
      "[5, 10, 12, 21, 42, 168, 169]\n",
      "169\n",
      "5\n",
      "427\n"
     ]
    }
   ],
   "source": [
    "numbers = [21, 12, 10, 42, 5, 169, 168]\n",
    "print(sorted(numbers))\n",
    "print(max(numbers))\n",
    "print(min(numbers))\n",
    "print(sum(numbers))"
   ]
  },
  {
   "cell_type": "markdown",
   "id": "0f9b1739",
   "metadata": {
    "pycharm": {
     "name": "#%% md\n"
    }
   },
   "source": [
    "# Range"
   ]
  },
  {
   "cell_type": "code",
   "execution_count": 21,
   "id": "68c9e48d",
   "metadata": {
    "pycharm": {
     "name": "#%%\n"
    }
   },
   "outputs": [
    {
     "data": {
      "text/plain": [
       "[0, 1, 2]"
      ]
     },
     "execution_count": 21,
     "metadata": {},
     "output_type": "execute_result"
    }
   ],
   "source": [
    "list(range(3))  # starting from zero and not including argument"
   ]
  },
  {
   "cell_type": "code",
   "execution_count": 22,
   "id": "7b7c5cbc",
   "metadata": {
    "pycharm": {
     "name": "#%%\n"
    }
   },
   "outputs": [
    {
     "data": {
      "text/plain": [
       "[1, 2, 3, 4, 5]"
      ]
     },
     "execution_count": 22,
     "metadata": {},
     "output_type": "execute_result"
    }
   ],
   "source": [
    "list(range(1,6))  # starting from first argument (including) to last argument (not including)"
   ]
  },
  {
   "cell_type": "code",
   "execution_count": 23,
   "id": "37a330b6",
   "metadata": {
    "pycharm": {
     "name": "#%%\n"
    }
   },
   "outputs": [
    {
     "data": {
      "text/plain": [
       "[1, 4, 7, 10, 13, 16, 19]"
      ]
     },
     "execution_count": 23,
     "metadata": {},
     "output_type": "execute_result"
    }
   ],
   "source": [
    "list(range(1,20,3))  # third argument is called step. Step is specifying how many numbers to skip"
   ]
  },
  {
   "cell_type": "markdown",
   "id": "988da6fb",
   "metadata": {
    "pycharm": {
     "name": "#%% md\n"
    }
   },
   "source": [
    "# For Loop\n",
    "is used when we know the exact number of itterations"
   ]
  },
  {
   "cell_type": "code",
   "execution_count": 24,
   "id": "4008f93c",
   "metadata": {
    "pycharm": {
     "name": "#%%\n"
    }
   },
   "outputs": [
    {
     "name": "stdout",
     "output_type": "stream",
     "text": [
      "apple ✅\n",
      "cola ✅\n",
      "bread ✅\n",
      "towel ✅\n"
     ]
    }
   ],
   "source": [
    "for item in shoplist:\n",
    "    print(item,'✅')"
   ]
  },
  {
   "cell_type": "markdown",
   "id": "9e987480",
   "metadata": {
    "pycharm": {
     "name": "#%% md\n"
    }
   },
   "source": [
    "continue allows to move to next iteration without finishing current iteration"
   ]
  },
  {
   "cell_type": "code",
   "execution_count": 25,
   "id": "b1c9b190",
   "metadata": {
    "pycharm": {
     "name": "#%%\n"
    }
   },
   "outputs": [
    {
     "name": "stdout",
     "output_type": "stream",
     "text": [
      "1\n",
      "3\n",
      "5\n",
      "7\n",
      "9\n"
     ]
    }
   ],
   "source": [
    "for i in range(10):\n",
    "    if i % 2 == 0:\n",
    "        continue \n",
    "    print(i)"
   ]
  },
  {
   "cell_type": "markdown",
   "id": "eddbe7dc",
   "metadata": {
    "pycharm": {
     "name": "#%% md\n"
    }
   },
   "source": [
    "break gets you out of the loop"
   ]
  },
  {
   "cell_type": "code",
   "execution_count": 26,
   "id": "15eaf56c",
   "metadata": {
    "pycharm": {
     "name": "#%%\n"
    }
   },
   "outputs": [
    {
     "name": "stdout",
     "output_type": "stream",
     "text": [
      "0\n",
      "1\n",
      "2\n",
      "3\n",
      "4\n",
      "5\n",
      "6\n"
     ]
    }
   ],
   "source": [
    "for i in range(10):\n",
    "    if i == 7:\n",
    "        break\n",
    "    print(i)"
   ]
  },
  {
   "cell_type": "markdown",
   "id": "1ce9f657",
   "metadata": {
    "pycharm": {
     "name": "#%% md\n"
    }
   },
   "source": [
    "Завершение всей программы\n",
    "\n",
    "exit(0) или exit(1)"
   ]
  },
  {
   "cell_type": "markdown",
   "id": "b5585e1c",
   "metadata": {
    "pycharm": {
     "name": "#%% md\n"
    }
   },
   "source": [
    "Every for loop can be rewritten as while loop, but while loop is more error prone"
   ]
  },
  {
   "cell_type": "code",
   "execution_count": 27,
   "id": "1ff3be6f",
   "metadata": {
    "pycharm": {
     "name": "#%%\n"
    }
   },
   "outputs": [
    {
     "name": "stdout",
     "output_type": "stream",
     "text": [
      "0\n",
      "1\n",
      "2\n",
      "3\n",
      "----------------\n",
      "0\n",
      "1\n",
      "2\n",
      "3\n",
      "----------------\n",
      "apple\n",
      "cola\n",
      "bread\n",
      "towel\n",
      "----------------\n",
      "apple\n",
      "cola\n",
      "bread\n",
      "towel\n"
     ]
    }
   ],
   "source": [
    "for i in range(4):\n",
    "    print(i)\n",
    "print('----------------')\n",
    "index = 0\n",
    "while index < 4:\n",
    "    print(index)\n",
    "    index += 1\n",
    "print('----------------')\n",
    "for item in shoplist:\n",
    "    print(item)\n",
    "print('----------------')\n",
    "x = 0\n",
    "while x < len(shoplist):\n",
    "    print(shoplist[x])\n",
    "    x += 1"
   ]
  },
  {
   "cell_type": "markdown",
   "id": "21472575",
   "metadata": {
    "pycharm": {
     "name": "#%% md\n"
    }
   },
   "source": [
    "print all even numbers from zero to n"
   ]
  },
  {
   "cell_type": "code",
   "execution_count": null,
   "id": "2cd09936",
   "metadata": {
    "pycharm": {
     "name": "#%%\n"
    }
   },
   "outputs": [],
   "source": [
    "n = int(input())"
   ]
  },
  {
   "cell_type": "markdown",
   "id": "7d12f9c8",
   "metadata": {
    "pycharm": {
     "name": "#%% md\n"
    }
   },
   "source": [
    "Input a string with numbers separated by '; ' find max number"
   ]
  },
  {
   "cell_type": "code",
   "execution_count": null,
   "id": "5fe3676d",
   "metadata": {
    "pycharm": {
     "name": "#%%\n"
    }
   },
   "outputs": [],
   "source": [
    "s = input('string with numbers separated by \"; \"')  # 42; 21; 168"
   ]
  },
  {
   "cell_type": "markdown",
   "id": "2084995c",
   "metadata": {
    "pycharm": {
     "name": "#%% md\n"
    }
   },
   "source": [
    "# Tuples \n",
    "like lists but immutable"
   ]
  },
  {
   "cell_type": "code",
   "execution_count": 28,
   "id": "cc7cf15e",
   "metadata": {
    "pycharm": {
     "name": "#%%\n"
    }
   },
   "outputs": [
    {
     "data": {
      "text/plain": [
       "[3.14, 2.72, 10.1]"
      ]
     },
     "execution_count": 28,
     "metadata": {},
     "output_type": "execute_result"
    }
   ],
   "source": [
    "constant_lst = (3.14, 2.72)\n",
    "# constant_lst.append(10.1)\n",
    "lst = list(constant_lst)\n",
    "lst.append(10.1)\n",
    "l, m, r = lst\n",
    "lst"
   ]
  },
  {
   "cell_type": "markdown",
   "id": "259c3618",
   "metadata": {
    "pycharm": {
     "name": "#%% md\n"
    }
   },
   "source": [
    "Unpacking"
   ]
  },
  {
   "cell_type": "code",
   "execution_count": 29,
   "id": "836c9787",
   "metadata": {
    "pycharm": {
     "name": "#%%\n"
    }
   },
   "outputs": [
    {
     "name": "stdout",
     "output_type": "stream",
     "text": [
      "3.14\n",
      "2.72\n",
      "3.14\n",
      "2.72\n",
      "2.72\n"
     ]
    }
   ],
   "source": [
    "l, r = constant_lst\n",
    "print(l)\n",
    "print(r)\n",
    "l, m, _ = lst\n",
    "print(l)\n",
    "print(m)\n",
    "print(r)\n"
   ]
  },
  {
   "cell_type": "markdown",
   "metadata": {
    "collapsed": false,
    "pycharm": {
     "name": "#%% md\n"
    }
   },
   "source": [
    "### str methods"
   ]
  },
  {
   "cell_type": "code",
   "execution_count": 30,
   "metadata": {
    "collapsed": false,
    "pycharm": {
     "name": "#%%\n"
    }
   },
   "outputs": [
    {
     "name": "stdout",
     "output_type": "stream",
     "text": [
      "2000\n",
      "I adore my cat\n",
      "For example, the years 1700, 1800, and 1900 are not leap years, but the years 1600 and 2000 are            \n",
      "         For example, the years 1700, 1800, and 1900 are not leap years, but the years 1600 and 2000 are\n",
      "For example, the years 1700, 1800, and 1900 are not leap years, but the years 1600 and 2000 are\n",
      "34\n",
      "98\n",
      "         for example, the years 1700, 1800, and 1900 are not leap years, but the years 1600 and 2000 are            \n",
      "         FOR EXAMPLE, THE YEARS 1700, 1800, AND 1900 ARE NOT LEAP YEARS, BUT THE YEARS 1600 AND 2000 ARE            \n",
      "         for example, the years 1700, 1800, and 1900 are not leap years, but the years 1600 and 2000 are            \n",
      "False\n",
      "False\n",
      "False\n",
      "         For example, the years 17ZEROZERO, 18ZEROZERO, and 19ZEROZERO are not leap years, but the years 16ZEROZERO and 2ZEROZEROZERO are            \n",
      "2\n",
      "False\n",
      "False\n",
      "         For example, the years 1700, 1800, and 1900 are not leap years, but the years 1600 and 2000 are            \n",
      "         For example, the years 1700, 1800, and 1900 are not leap years, but the years 1600 and 2000 are            \n"
     ]
    }
   ],
   "source": [
    "text = '         For example, the years 1700, 1800, and 1900 are not leap years, but the years 1600 and 2000 are            '\n",
    "print(text.split()[-2])\n",
    "print(' '.join(['I', 'adore', 'my', 'cat']))\n",
    "print(text.lstrip())\n",
    "print(text.rstrip())\n",
    "print(text.strip())\n",
    "print(text.find('00'))\n",
    "print(text.rfind('00'))\n",
    "print(text.lower())\n",
    "print(text.upper())\n",
    "print(text.capitalize())\n",
    "print(text.isalpha())\n",
    "print(text.isnumeric())\n",
    "print(text.isalnum())\n",
    "print(text.replace('0', 'ZERO'))\n",
    "print(text.count('the'))\n",
    "print(text.startswith('For example,'))\n",
    "print(text.endswith('are'))\n",
    "print(text.removeprefix('For example, '))\n",
    "print(text.removesuffix('are'))"
   ]
  },
  {
   "cell_type": "markdown",
   "id": "fd0264ca",
   "metadata": {
    "pycharm": {
     "name": "#%% md\n"
    }
   },
   "source": [
    "More list and str methods\n",
    "\n",
    "https://docs.python.org/3/tutorial/datastructures.html  LIST\n",
    "\n",
    "https://www.w3schools.com/python/python_ref_string.asp  STR"
   ]
  }
 ],
 "metadata": {
  "colab": {
   "name": "Sem1_Zhur (1).ipynb",
   "provenance": []
  },
  "kernelspec": {
   "display_name": "venv",
   "language": "python",
   "name": "python3"
  },
  "language_info": {
   "codemirror_mode": {
    "name": "ipython",
    "version": 3
   },
   "file_extension": ".py",
   "mimetype": "text/x-python",
   "name": "python",
   "nbconvert_exporter": "python",
   "pygments_lexer": "ipython3",
   "version": "3.9.15"
  },
  "vscode": {
   "interpreter": {
    "hash": "3791588517fcf0f0073525e2ba1a948795a12ec9be3b3fe83c36086ecdd36f53"
   }
  }
 },
 "nbformat": 4,
 "nbformat_minor": 5
}
