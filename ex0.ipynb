{
 "cells": [
  {
   "cell_type": "markdown",
   "id": "1a73be87",
   "metadata": {
    "pycharm": {
     "name": "#%% md\n"
    }
   },
   "source": [
    "### Excercise 0"
   ]
  },
  {
   "cell_type": "code",
   "execution_count": null,
   "id": "b7873139",
   "metadata": {
    "pycharm": {
     "name": "#%%\n"
    }
   },
   "outputs": [],
   "source": [
    "\"\"\"\n",
    "Convert EU floor to US floor\n",
    "\n",
    "Enter EU floor: 35 \n",
    "\n",
    "US floor: 36\n",
    "\"\"\""
   ]
  },
  {
   "cell_type": "markdown",
   "id": "cd28522d",
   "metadata": {
    "pycharm": {
     "name": "#%% md\n"
    }
   },
   "source": [
    "### Excercise 1"
   ]
  },
  {
   "cell_type": "code",
   "execution_count": null,
   "id": "f76aa6f7",
   "metadata": {
    "pycharm": {
     "name": "#%%\n"
    }
   },
   "outputs": [],
   "source": [
    "\"\"\"\n",
    "Write a program to prompt the user for hours and rate per hour to compute gross pay\n",
    "Enter Hours: 35 \n",
    "Enter Rate: 2.75 \n",
    "\n",
    "Pay: 96.25\n",
    "\"\"\""
   ]
  },
  {
   "cell_type": "markdown",
   "id": "cd28522d",
   "metadata": {
    "pycharm": {
     "name": "#%% md\n"
    }
   },
   "source": [
    "### Excercise 2"
   ]
  },
  {
   "cell_type": "code",
   "execution_count": null,
   "id": "f76aa6f7",
   "metadata": {
    "pycharm": {
     "name": "#%%\n"
    }
   },
   "outputs": [],
   "source": [
    "\"\"\"\n",
    "Rewrite your pay computation to give the employee 1.5 times the hourly rate for hours worked above 40 hours.\n",
    "\n",
    "Enter Hours: 45\n",
    "Enter Rate: 10 \n",
    "\n",
    "Pay: 475.0\n",
    "Hint: 475 = 40 * 10 + 5 * 15\n",
    "\"\"\""
   ]
  },
  {
   "cell_type": "markdown",
   "id": "cd28522d",
   "metadata": {
    "pycharm": {
     "name": "#%% md\n"
    }
   },
   "source": [
    "### Excercise 3"
   ]
  },
  {
   "cell_type": "code",
   "execution_count": null,
   "id": "f76aa6f7",
   "metadata": {
    "pycharm": {
     "name": "#%%\n"
    }
   },
   "outputs": [],
   "source": [
    "\"\"\"\n",
    "Print True if it is a leap year\n",
    "\"\"\""
   ]
  },
  {
   "cell_type": "markdown",
   "id": "cd28522d",
   "metadata": {
    "pycharm": {
     "name": "#%% md\n"
    }
   },
   "source": [
    "### Excercise 4"
   ]
  },
  {
   "cell_type": "code",
   "execution_count": null,
   "id": "f76aa6f7",
   "metadata": {
    "pycharm": {
     "name": "#%%\n"
    }
   },
   "outputs": [],
   "source": [
    "\"\"\"\n",
    "10 grade to American system\n",
    "\n",
    "10 - S\n",
    "9-8 - A\n",
    "7-6 - B\n",
    "5-4 - C\n",
    "3-2 - D\n",
    "1 - E\n",
    "0 - F\n",
    "\n",
    "< 0 - sorry you entered a wrong number\n",
    "not a number - please enter a number\n",
    "\"\"\""
   ]
  },
  {
   "cell_type": "markdown",
   "id": "cd28522d",
   "metadata": {
    "pycharm": {
     "name": "#%% md\n"
    }
   },
   "source": [
    "### Excercise 5"
   ]
  },
  {
   "cell_type": "code",
   "execution_count": null,
   "id": "f76aa6f7",
   "metadata": {
    "pycharm": {
     "name": "#%%\n"
    }
   },
   "outputs": [],
   "source": [
    "\"\"\"\n",
    "Make an email out of fio\n",
    "\n",
    "Ilya Tarasovich Sagaidac -> itsagaidac@gmail.com\n",
    "Tatyana Vasilyeva -> tvasilyeva@gmail.com\n",
    "\"\"\""
   ]
  },
  {
   "cell_type": "markdown",
   "id": "cd28522d",
   "metadata": {
    "pycharm": {
     "name": "#%% md\n"
    }
   },
   "source": [
    "### Excercise 6"
   ]
  },
  {
   "cell_type": "code",
   "execution_count": null,
   "id": "f76aa6f7",
   "metadata": {
    "pycharm": {
     "name": "#%%\n"
    }
   },
   "outputs": [],
   "source": [
    "\"\"\"\n",
    "пользователь вводит число N, вам нужно вывести строку. В зависимости от числа, нужно выбрать правильный вариант.\n",
    "\"У меня на этой неделе N дедлайн/дедлайна/дедлайнов\"\n",
    "Если пользователь ввел не число или отрицательное число - \"это не число\"\n",
    "\"\"\""
   ]
  },
  {
   "cell_type": "markdown",
   "id": "cd28522d",
   "metadata": {
    "pycharm": {
     "name": "#%% md\n"
    }
   },
   "source": [
    "### Excercise 7"
   ]
  },
  {
   "cell_type": "code",
   "execution_count": null,
   "id": "f76aa6f7",
   "metadata": {
    "pycharm": {
     "name": "#%%\n"
    }
   },
   "outputs": [],
   "source": [
    "\"\"\"\n",
    " Вы решили следить за своим режимом сна и создать программу, которая будет вычислять нужное время пробуждения в зависимости от времени засыпания и необходимой длительности сна. \n",
    " Напишите программу, которая будет считывать три целых числа :\n",
    " час засыпания, минуты засыпания, длительность сна (в минутах) и выводить время пробуждения в формате **ЧЧ:ММ**.\n",
    "\"\"\""
   ]
  }
 ],
 "metadata": {
  "language_info": {
   "name": "python"
  },
  "orig_nbformat": 4
 },
 "nbformat": 4,
 "nbformat_minor": 2
}