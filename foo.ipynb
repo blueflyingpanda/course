{
 "cells": [
  {
   "cell_type": "code",
   "execution_count": null,
   "metadata": {
    "pycharm": {
     "name": "#%%\n"
    }
   },
   "outputs": [],
   "source": [
    "# def ask_about_staff(name):\n",
    "#     print(f'HEY {name}!')\n",
    "#     answer = input(f'how are you {name}?')\n",
    "#     print(f'{name} answered: {answer}')\n",
    "\n",
    "# ask_about_staff('Petya')\n",
    "# ask_about_staff('Vasya')\n",
    "# ask_about_staff('Masha')\n",
    "\n",
    "# print('hello Petya!')\n",
    "# answer = input('how are you Petya?')\n",
    "# print(f'Petya answered: {answer}')\n",
    "# print('hello Vasya!')\n",
    "# answer = input('how are you Vasya?')\n",
    "# print(f'Vasya answered: {answer}')\n",
    "# print('hello Masha!')\n",
    "# answer = input('how are you Masha?')\n",
    "# print(f'Masha answered: {answer}')\n",
    "\n",
    "def sum_three(a, b, c):\n",
    "    return a + b + c\n",
    "\n",
    "text = 'dfsa sgad'\n",
    "no_spaces_text = text.replace(' ', '_')\n",
    "# print(text)\n",
    "# print(no_spaces_text)\n",
    "\n",
    "# print(sum_three(1, 9, 7))\n",
    "\n",
    "\n",
    "def inform_user_about_balance(username: str, money: float):\n",
    "    pass\n",
    "\n",
    "def calculate(expression: str) -> float:\n",
    "    pass\n",
    "\n",
    "\n",
    "print(calculate('21 + 42') == 63.0)\n",
    "print(calculate('13 - 7') == 6.0)\n",
    "print(calculate('7 / 2') == 3.5)\n",
    "print(calculate('7 * 2') == 14.0)"
   ]
  }
 ],
 "metadata": {
  "kernelspec": {
   "display_name": "Python 3",
   "language": "python",
   "name": "python3"
  },
  "language_info": {
   "name": "python",
   "version": "3.10.8 (main, Nov 15 2022, 05:25:54) [Clang 14.0.0 (clang-1400.0.29.202)]"
  },
  "orig_nbformat": 4,
  "vscode": {
   "interpreter": {
    "hash": "aee8b7b246df8f9039afb4144a1f6fd8d2ca17a180786b69acc140d282b71a49"
   }
  }
 },
 "nbformat": 4,
 "nbformat_minor": 2
}
