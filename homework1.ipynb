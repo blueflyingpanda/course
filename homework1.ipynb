{
 "cells": [
  {
   "cell_type": "markdown",
   "source": [
    "# Upon registration on your website user enters its year of birth\n",
    "\n",
    "### 1. Check if the year is valid. Print VALID or INVALID\n",
    "Valid year is a 4 digit number between 1903 and 2022\n"
   ],
   "metadata": {
    "collapsed": false,
    "pycharm": {
     "name": "#%% md\n"
    }
   }
  },
  {
   "cell_type": "code",
   "execution_count": null,
   "metadata": {
    "collapsed": true,
    "pycharm": {
     "name": "#%%\n"
    }
   },
   "outputs": [],
   "source": [
    "user_year0 = '97'  # INVALID\n",
    "user_year1 = '19901'  # INVALID\n",
    "user_year2 = 'nine'  # INVALID\n",
    "user_year3 = ''  # INVALID\n",
    "user_year4 = '-2003'  # INVALID\n",
    "user_year5 = '2023'  # INVALID\n",
    "user_year6 = '1902'  # INVALID\n",
    "user_year7 = '1977'  # VALID\n",
    "\n",
    "# TODO your code goes after this comment"
   ]
  },
  {
   "cell_type": "markdown",
   "source": [
    "### 2. Check that user is at least 18 years old\n",
    "If the user is younger than 18 years old print \"Sorry bro, return when you grow up!\". Otherwise print \"All good. You're <age> y.o.\". In case the user is older than 50 print also \"The font-size will be increased.\""
   ],
   "metadata": {
    "collapsed": false,
    "pycharm": {
     "name": "#%% md\n"
    }
   }
  },
  {
   "cell_type": "code",
   "execution_count": 1,
   "outputs": [],
   "source": [
    "CURRENT_YEAR = 2022\n",
    "user_year8 = '2010'  # Sorry bro, return when you grow up!\n",
    "user_year9 = '2004'  # All good. You're 18 y.o.\n",
    "user_year10 = '1971'  # All good. You're 51 y.o. The font-size will be increased.\n",
    "\n",
    "# TODO your code goes after this comment"
   ],
   "metadata": {
    "collapsed": false,
    "pycharm": {
     "name": "#%%\n"
    }
   }
  },
  {
   "cell_type": "markdown",
   "source": [
    "### 3. Check if the user was born in a leap year\n",
    "print LAME if not a leap year else print LEAP"
   ],
   "metadata": {
    "collapsed": false,
    "pycharm": {
     "name": "#%% md\n"
    }
   }
  },
  {
   "cell_type": "code",
   "execution_count": 2,
   "outputs": [],
   "source": [
    "user_year11 = '1997'  # LAME\n",
    "user_year12 = '1996'  # LEAP\n",
    "\n",
    "# TODO your code goes after this comment"
   ],
   "metadata": {
    "collapsed": false,
    "pycharm": {
     "name": "#%%\n"
    }
   }
  },
  {
   "cell_type": "markdown",
   "source": [
    "# Suppose you have the whole date of birth in format DD.MM.YYYY\n",
    "\n",
    "Check if month is valid or print INVALID and do nothing else\n",
    "If the month passed validation tell which season the user was born"
   ],
   "metadata": {
    "collapsed": false,
    "pycharm": {
     "name": "#%% md\n"
    }
   }
  },
  {
   "cell_type": "code",
   "execution_count": 3,
   "outputs": [],
   "source": [
    "user_date0 = '04.-5.1998'  # INVALID\n",
    "user_date1 = '04.:*.1998'  # INVALID\n",
    "user_date2 = '04.00.1998'  # INVALID\n",
    "user_date3 = '04..1998'  # INVALID\n",
    "user_date4 = '04.13.1998'  # INVALID\n",
    "user_date5 = '04.11.1998'  # AUTUMN\n",
    "user_date6 = '04.01.1998'  # WINTER\n",
    "user_date7 = '04.04.1998'  # SPRING\n",
    "user_date8 = '04.08.1998'  # SUMMER\n",
    "\n",
    "# TODO your code goes after this comment"
   ],
   "metadata": {
    "collapsed": false,
    "pycharm": {
     "name": "#%%\n"
    }
   }
  },
  {
   "cell_type": "markdown",
   "source": [
    "# Sometimes users struggle to pick up a nickname. Build a suggestion system that will take user's firstname, lastname, date of birth\n",
    "Take first letter of the firstname, then add reversed lastname, finally add dd - mm.year (decimal rounded to 2 digits in fractional part)\n",
    "If resulting number is negative - make it positive"
   ],
   "metadata": {
    "collapsed": false,
    "pycharm": {
     "name": "#%% md\n"
    }
   }
  },
  {
   "cell_type": "code",
   "execution_count": null,
   "outputs": [],
   "source": [
    "firstname0 = 'ilya'\n",
    "lastname0 = 'sagaidac'\n",
    "date_of_birth0 = '23.05.1998'\n",
    "nickname0 = 'icadiagas17.8'  # 23 - 5.2 = 17.8\n",
    "\n",
    "firstname1 = 'polina'\n",
    "lastname1 = 'sagaidac'\n",
    "date_of_birth1 = '05.08.2003'\n",
    "nickname1 = 'pcadiagas3.2'  # 5 - 8.2 = - 3.2 (positive would be 3.2)\n",
    "\n",
    "# TODO your code goes after this comment"
   ],
   "metadata": {
    "collapsed": false,
    "pycharm": {
     "name": "#%%\n"
    }
   }
  }
 ],
 "metadata": {
  "kernelspec": {
   "display_name": "Python 3",
   "language": "python",
   "name": "python3"
  },
  "language_info": {
   "codemirror_mode": {
    "name": "ipython",
    "version": 2
   },
   "file_extension": ".py",
   "mimetype": "text/x-python",
   "name": "python",
   "nbconvert_exporter": "python",
   "pygments_lexer": "ipython2",
   "version": "2.7.6"
  }
 },
 "nbformat": 4,
 "nbformat_minor": 0
}