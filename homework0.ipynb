{
 "cells": [
  {
   "cell_type": "markdown",
   "source": [
    "Write the program that prints \"The current time is 19:18:59.\""
   ],
   "metadata": {
    "collapsed": false,
    "pycharm": {
     "name": "#%% md\n"
    }
   }
  },
  {
   "cell_type": "code",
   "execution_count": null,
   "outputs": [],
   "source": [
    "hours = 19\n",
    "minutes = 18\n",
    "seconds = 59\n",
    "\n",
    "# TODO your code"
   ],
   "metadata": {
    "collapsed": false,
    "pycharm": {
     "name": "#%%\n"
    }
   }
  },
  {
   "cell_type": "markdown",
   "source": [
    "Write the program that prints underscores instead of spaces \"my_1_python_homework_ever\""
   ],
   "metadata": {
    "collapsed": false,
    "pycharm": {
     "name": "#%% md\n"
    }
   }
  },
  {
   "cell_type": "code",
   "execution_count": null,
   "outputs": [],
   "source": [
    "pronoun = \"my\"\n",
    "ordinal_number = 1\n",
    "programming_language = \"python\"\n",
    "assignment = \"homework\"\n",
    "ending = \"ever\"\n",
    "\n",
    "# TODO your code"
   ],
   "metadata": {
    "collapsed": false,
    "pycharm": {
     "name": "#%%\n"
    }
   }
  },
  {
   "cell_type": "markdown",
   "source": [
    "Change variable values so that True is printed"
   ],
   "metadata": {
    "collapsed": false,
    "pycharm": {
     "name": "#%% md\n"
    }
   }
  },
  {
   "cell_type": "code",
   "execution_count": 7,
   "outputs": [
    {
     "name": "stdout",
     "output_type": "stream",
     "text": [
      "True\n"
     ]
    }
   ],
   "source": [
    "animal = \"panda\"\n",
    "year = 1999\n",
    "in_red_book = True\n",
    "is_female = False\n",
    "weight = 1234.5\n",
    "\n",
    "print((animal == 'panda' and year > 1998 or in_red_book and is_female) and round(weight, 0) < 1236)\n",
    "# print((True) and round(weight, 0) < 1236)"
   ],
   "metadata": {
    "collapsed": false,
    "pycharm": {
     "name": "#%%\n"
    }
   }
  },
  {
   "cell_type": "markdown",
   "source": [
    "How to change the statement so that True is printed"
   ],
   "metadata": {
    "collapsed": false,
    "pycharm": {
     "name": "#%% md\n"
    }
   }
  },
  {
   "cell_type": "code",
   "execution_count": 20,
   "outputs": [
    {
     "name": "stdout",
     "output_type": "stream",
     "text": [
      "0.3\n",
      "True\n"
     ]
    }
   ],
   "source": [
    "my_number = 0.1 + 0.1 + 0.1\n",
    "print(round(my_number, 1) == 0.3)"
   ],
   "metadata": {
    "collapsed": false,
    "pycharm": {
     "name": "#%%\n"
    }
   }
  },
  {
   "cell_type": "markdown",
   "source": [
    "Write a program that prints how much time in days hours minutes and seconds has passed having only amount of seconds passed"
   ],
   "metadata": {
    "collapsed": false,
    "pycharm": {
     "name": "#%% md\n"
    }
   }
  },
  {
   "cell_type": "code",
   "execution_count": 39,
   "outputs": [
    {
     "name": "stdout",
     "output_type": "stream",
     "text": [
      "2\n"
     ]
    }
   ],
   "source": [
    "# seconds_passed = 844225  # \"9 days 18 hours 30 minutes 25 seconds\"\n",
    "# many_seconds_passed = 9876543  # \"114 days 7 hours 29 minutes 3 seconds\"\n",
    "\n",
    "sp = 236123\n",
    "# hours = sp // (60 * 60)\n",
    "# print(hours)\n",
    "days = sp // (60 * 60 * 24)\n",
    "print(days)\n"
   ],
   "metadata": {
    "collapsed": false,
    "pycharm": {
     "name": "#%%\n"
    }
   }
  },
  {
   "cell_type": "code",
   "execution_count": 45,
   "outputs": [
    {
     "name": "stdout",
     "output_type": "stream",
     "text": [
      "9 days 18 hours 30 minutes 25 seconds\n"
     ]
    }
   ],
   "source": [
    "# seconds_passed = 844225  # \"9 days 18 hours 30 minutes 25 seconds\"\n",
    "# many_seconds_passed = 9876543  # \"114 days 7 hours 29 minutes 3 seconds\"\n",
    "\n",
    "sp = 844225\n",
    "days = sp // (60 * 60 * 24)\n",
    "sp = sp % (60 * 60 * 24)\n",
    "hours = sp // (60 * 60)\n",
    "sp = sp % (60 * 60)\n",
    "minutes = sp // 60\n",
    "sp = sp % 60\n",
    "seconds = sp\n",
    "\n",
    "print(f\"{days} days {hours} hours {minutes} minutes {seconds} seconds\")"
   ],
   "metadata": {
    "collapsed": false,
    "pycharm": {
     "name": "#%%\n"
    }
   }
  }
 ],
 "metadata": {
  "kernelspec": {
   "display_name": "Python 3",
   "language": "python",
   "name": "python3"
  },
  "language_info": {
   "codemirror_mode": {
    "name": "ipython",
    "version": 2
   },
   "file_extension": ".py",
   "mimetype": "text/x-python",
   "name": "python",
   "nbconvert_exporter": "python",
   "pygments_lexer": "ipython2",
   "version": "2.7.6"
  }
 },
 "nbformat": 4,
 "nbformat_minor": 0
}